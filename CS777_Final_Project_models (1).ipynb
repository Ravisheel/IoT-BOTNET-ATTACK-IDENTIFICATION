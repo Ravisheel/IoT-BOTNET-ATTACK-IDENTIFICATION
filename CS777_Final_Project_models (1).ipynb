{
  "nbformat": 4,
  "nbformat_minor": 0,
  "metadata": {
    "colab": {
      "provenance": []
    },
    "kernelspec": {
      "name": "python3",
      "display_name": "Python 3"
    },
    "language_info": {
      "name": "python"
    }
  },
  "cells": [
    {
      "cell_type": "code",
      "execution_count": null,
      "metadata": {
        "colab": {
          "base_uri": "https://localhost:8080/"
        },
        "id": "5JIr_os6Afhu",
        "outputId": "842cdfa1-4342-46c7-be1c-24689f8658e7"
      },
      "outputs": [
        {
          "output_type": "stream",
          "name": "stdout",
          "text": [
            "Mounted at /content/drive\n"
          ]
        }
      ],
      "source": [
        "from google.colab import drive\n",
        "drive.mount('/content/drive')"
      ]
    },
    {
      "cell_type": "code",
      "source": [
        "!pip install pyspark"
      ],
      "metadata": {
        "colab": {
          "base_uri": "https://localhost:8080/"
        },
        "id": "cQlIjKjeAsTc",
        "outputId": "2c1e9a15-7417-408a-bb36-815476bb218c"
      },
      "execution_count": null,
      "outputs": [
        {
          "output_type": "stream",
          "name": "stdout",
          "text": [
            "Collecting pyspark\n",
            "  Downloading pyspark-3.5.0.tar.gz (316.9 MB)\n",
            "\u001b[2K     \u001b[90m━━━━━━━━━━━━━━━━━━━━━━━━━━━━━━━━━━━━━━━━\u001b[0m \u001b[32m316.9/316.9 MB\u001b[0m \u001b[31m4.7 MB/s\u001b[0m eta \u001b[36m0:00:00\u001b[0m\n",
            "\u001b[?25h  Preparing metadata (setup.py) ... \u001b[?25l\u001b[?25hdone\n",
            "Requirement already satisfied: py4j==0.10.9.7 in /usr/local/lib/python3.10/dist-packages (from pyspark) (0.10.9.7)\n",
            "Building wheels for collected packages: pyspark\n",
            "  Building wheel for pyspark (setup.py) ... \u001b[?25l\u001b[?25hdone\n",
            "  Created wheel for pyspark: filename=pyspark-3.5.0-py2.py3-none-any.whl size=317425344 sha256=b584603b6d71ec17955e91df59ea5374b1d490155dacce38b57a89599f98eb61\n",
            "  Stored in directory: /root/.cache/pip/wheels/41/4e/10/c2cf2467f71c678cfc8a6b9ac9241e5e44a01940da8fbb17fc\n",
            "Successfully built pyspark\n",
            "Installing collected packages: pyspark\n",
            "Successfully installed pyspark-3.5.0\n"
          ]
        }
      ]
    },
    {
      "cell_type": "code",
      "source": [],
      "metadata": {
        "id": "fizagaliA8a5"
      },
      "execution_count": null,
      "outputs": []
    },
    {
      "cell_type": "code",
      "source": [
        "import numpy as np\n",
        "import pandas as pd\n",
        "\n",
        "\n",
        "import os\n",
        "for dirname, _, filenames in os.walk('/content/drive/MyDrive/CS777/Final-Project'):\n",
        "  for filename in filenames:\n",
        "    print(os.path.join(dirname, filename))"
      ],
      "metadata": {
        "colab": {
          "base_uri": "https://localhost:8080/"
        },
        "id": "lF2YZS_EA8NV",
        "outputId": "4fd921f0-392e-4de7-d72b-9367b1892e9e"
      },
      "execution_count": null,
      "outputs": [
        {
          "output_type": "stream",
          "name": "stdout",
          "text": [
            "/content/drive/MyDrive/CS777/Final-Project/1.benign.csv\n",
            "/content/drive/MyDrive/CS777/Final-Project/1.gafgyt.combo.csv\n",
            "/content/drive/MyDrive/CS777/Final-Project/1.gafgyt.tcp.csv\n",
            "/content/drive/MyDrive/CS777/Final-Project/1.gafgyt.udp.csv\n",
            "/content/drive/MyDrive/CS777/Final-Project/1.mirai.ack.csv\n",
            "/content/drive/MyDrive/CS777/Final-Project/1.mirai.scan.csv\n",
            "/content/drive/MyDrive/CS777/Final-Project/1.mirai.syn.csv\n",
            "/content/drive/MyDrive/CS777/Final-Project/1.mirai.udp.csv\n",
            "/content/drive/MyDrive/CS777/Final-Project/1.mirai.udpplain.csv\n",
            "/content/drive/MyDrive/CS777/Final-Project/2.benign.csv\n",
            "/content/drive/MyDrive/CS777/Final-Project/2.gafgyt.combo.csv\n",
            "/content/drive/MyDrive/CS777/Final-Project/2.gafgyt.tcp.csv\n",
            "/content/drive/MyDrive/CS777/Final-Project/2.gafgyt.udp.csv\n",
            "/content/drive/MyDrive/CS777/Final-Project/2.mirai.ack.csv\n",
            "/content/drive/MyDrive/CS777/Final-Project/2.mirai.scan.csv\n",
            "/content/drive/MyDrive/CS777/Final-Project/2.mirai.syn.csv\n",
            "/content/drive/MyDrive/CS777/Final-Project/2.mirai.udp.csv\n",
            "/content/drive/MyDrive/CS777/Final-Project/2.mirai.udpplain.csv\n",
            "/content/drive/MyDrive/CS777/Final-Project/3.benign.csv\n",
            "/content/drive/MyDrive/CS777/Final-Project/3.gafgyt.combo.csv\n",
            "/content/drive/MyDrive/CS777/Final-Project/3.gafgyt.tcp.csv\n",
            "/content/drive/MyDrive/CS777/Final-Project/3.gafgyt.udp.csv\n",
            "/content/drive/MyDrive/CS777/Final-Project/4.benign.csv\n",
            "/content/drive/MyDrive/CS777/Final-Project/4.gafgyt.combo.csv\n",
            "/content/drive/MyDrive/CS777/Final-Project/4.gafgyt.tcp.csv\n",
            "/content/drive/MyDrive/CS777/Final-Project/4.gafgyt.udp.csv\n",
            "/content/drive/MyDrive/CS777/Final-Project/4.mirai.ack.csv\n",
            "/content/drive/MyDrive/CS777/Final-Project/4.mirai.scan.csv\n",
            "/content/drive/MyDrive/CS777/Final-Project/4.mirai.syn.csv\n",
            "/content/drive/MyDrive/CS777/Final-Project/4.mirai.udp.csv\n",
            "/content/drive/MyDrive/CS777/Final-Project/5.benign.csv\n",
            "/content/drive/MyDrive/CS777/Final-Project/4.mirai.udpplain.csv\n",
            "/content/drive/MyDrive/CS777/Final-Project/5.gafgyt.combo.csv\n",
            "/content/drive/MyDrive/CS777/Final-Project/5.gafgyt.tcp.csv\n",
            "/content/drive/MyDrive/CS777/Final-Project/5.gafgyt.udp.csv\n",
            "/content/drive/MyDrive/CS777/Final-Project/5.mirai.ack.csv\n",
            "/content/drive/MyDrive/CS777/Final-Project/5.mirai.scan.csv\n",
            "/content/drive/MyDrive/CS777/Final-Project/5.mirai.syn.csv\n",
            "/content/drive/MyDrive/CS777/Final-Project/5.mirai.udp.csv\n",
            "/content/drive/MyDrive/CS777/Final-Project/5.mirai.udpplain.csv\n",
            "/content/drive/MyDrive/CS777/Final-Project/6.benign.csv\n",
            "/content/drive/MyDrive/CS777/Final-Project/6.gafgyt.combo.csv\n",
            "/content/drive/MyDrive/CS777/Final-Project/6.gafgyt.tcp.csv\n",
            "/content/drive/MyDrive/CS777/Final-Project/6.gafgyt.udp.csv\n",
            "/content/drive/MyDrive/CS777/Final-Project/6.mirai.ack.csv\n",
            "/content/drive/MyDrive/CS777/Final-Project/6.mirai.scan.csv\n",
            "/content/drive/MyDrive/CS777/Final-Project/6.mirai.syn.csv\n",
            "/content/drive/MyDrive/CS777/Final-Project/6.mirai.udp.csv\n",
            "/content/drive/MyDrive/CS777/Final-Project/6.mirai.udpplain.csv\n",
            "/content/drive/MyDrive/CS777/Final-Project/7.benign.csv\n",
            "/content/drive/MyDrive/CS777/Final-Project/7.gafgyt.combo.csv\n",
            "/content/drive/MyDrive/CS777/Final-Project/7.gafgyt.tcp.csv\n",
            "/content/drive/MyDrive/CS777/Final-Project/7.gafgyt.udp.csv\n",
            "/content/drive/MyDrive/CS777/Final-Project/8.benign.csv\n",
            "/content/drive/MyDrive/CS777/Final-Project/8.gafgyt.combo.csv\n",
            "/content/drive/MyDrive/CS777/Final-Project/8.gafgyt.tcp.csv\n",
            "/content/drive/MyDrive/CS777/Final-Project/8.gafgyt.udp.csv\n",
            "/content/drive/MyDrive/CS777/Final-Project/8.mirai.ack.csv\n",
            "/content/drive/MyDrive/CS777/Final-Project/8.mirai.scan.csv\n",
            "/content/drive/MyDrive/CS777/Final-Project/8.mirai.syn.csv\n",
            "/content/drive/MyDrive/CS777/Final-Project/8.mirai.udp.csv\n",
            "/content/drive/MyDrive/CS777/Final-Project/8.mirai.udpplain.csv\n",
            "/content/drive/MyDrive/CS777/Final-Project/9.benign.csv\n",
            "/content/drive/MyDrive/CS777/Final-Project/9.gafgyt.combo.csv\n",
            "/content/drive/MyDrive/CS777/Final-Project/9.gafgyt.tcp.csv\n",
            "/content/drive/MyDrive/CS777/Final-Project/9.gafgyt.udp.csv\n",
            "/content/drive/MyDrive/CS777/Final-Project/9.mirai.ack.csv\n",
            "/content/drive/MyDrive/CS777/Final-Project/9.mirai.scan.csv\n",
            "/content/drive/MyDrive/CS777/Final-Project/9.mirai.syn.csv\n",
            "/content/drive/MyDrive/CS777/Final-Project/9.mirai.udp.csv\n",
            "/content/drive/MyDrive/CS777/Final-Project/9.mirai.udpplain.csv\n",
            "/content/drive/MyDrive/CS777/Final-Project/data_summary.csv\n",
            "/content/drive/MyDrive/CS777/Final-Project/device_info.csv\n",
            "/content/drive/MyDrive/CS777/Final-Project/features.csv\n",
            "/content/drive/MyDrive/CS777/Final-Project/Test_data/1.mirai.udp.csv\n",
            "/content/drive/MyDrive/CS777/Final-Project/Test_data/3.gafgyt.junk.csv\n",
            "/content/drive/MyDrive/CS777/Final-Project/Test_data/6.gafgyt.combo.csv\n",
            "/content/drive/MyDrive/CS777/Final-Project/Test_data/6.gafgyt.tcp.csv\n",
            "/content/drive/MyDrive/CS777/Final-Project/Test_data/data_summary.csv\n",
            "/content/drive/MyDrive/CS777/Final-Project/Test_data/device_info.csv\n",
            "/content/drive/MyDrive/CS777/Final-Project/Test_data/features.csv\n"
          ]
        }
      ]
    },
    {
      "cell_type": "code",
      "source": [],
      "metadata": {
        "id": "0XnRMqUCBhiG"
      },
      "execution_count": null,
      "outputs": []
    },
    {
      "cell_type": "code",
      "source": [
        "from pyspark.sql import SparkSession\n",
        "from pyspark import SparkContext, SparkConf\n",
        "from pyspark.sql import SQLContext\n",
        "\n",
        "conf = SparkConf().setAppName('CS777 Project').setMaster('local[6]')\n",
        "sc = SparkContext(conf=conf)\n",
        "sql_context = SQLContext(sc)"
      ],
      "metadata": {
        "id": "IJ-FWmoVBhfm",
        "colab": {
          "base_uri": "https://localhost:8080/"
        },
        "outputId": "96798452-7924-4141-a1b5-753e009f7944"
      },
      "execution_count": null,
      "outputs": [
        {
          "output_type": "stream",
          "name": "stderr",
          "text": [
            "/usr/local/lib/python3.10/dist-packages/pyspark/sql/context.py:113: FutureWarning: Deprecated in 3.0.0. Use SparkSession.builder.getOrCreate() instead.\n",
            "  warnings.warn(\n"
          ]
        }
      ]
    },
    {
      "cell_type": "code",
      "source": [
        "out_files = [\"/content/drive/MyDrive/CS777/Final-Project/features.csv\",\n",
        "             \"/content/drive/MyDrive/CS777/Final-Project/data_summary.csv\",\n",
        "             \"/content/drive/MyDrive/CS777/Final-Project/device_info.csv\"]"
      ],
      "metadata": {
        "id": "aEo_KS44B4Y9"
      },
      "execution_count": null,
      "outputs": []
    },
    {
      "cell_type": "code",
      "source": [
        "import glob\n",
        "\n",
        "csv_files = glob.glob(\"/content/drive/MyDrive/CS777/Final-Project/*.csv\")\n",
        "print(csv_files)"
      ],
      "metadata": {
        "colab": {
          "base_uri": "https://localhost:8080/"
        },
        "id": "cSchMkRWB5jT",
        "outputId": "8104a468-88db-45fd-ce22-22ce23ea5939"
      },
      "execution_count": null,
      "outputs": [
        {
          "output_type": "stream",
          "name": "stdout",
          "text": [
            "['/content/drive/MyDrive/CS777/Final-Project/1.benign.csv', '/content/drive/MyDrive/CS777/Final-Project/1.gafgyt.combo.csv', '/content/drive/MyDrive/CS777/Final-Project/1.gafgyt.tcp.csv', '/content/drive/MyDrive/CS777/Final-Project/1.gafgyt.udp.csv', '/content/drive/MyDrive/CS777/Final-Project/1.mirai.ack.csv', '/content/drive/MyDrive/CS777/Final-Project/1.mirai.scan.csv', '/content/drive/MyDrive/CS777/Final-Project/1.mirai.syn.csv', '/content/drive/MyDrive/CS777/Final-Project/1.mirai.udp.csv', '/content/drive/MyDrive/CS777/Final-Project/1.mirai.udpplain.csv', '/content/drive/MyDrive/CS777/Final-Project/2.benign.csv', '/content/drive/MyDrive/CS777/Final-Project/2.gafgyt.combo.csv', '/content/drive/MyDrive/CS777/Final-Project/2.gafgyt.tcp.csv', '/content/drive/MyDrive/CS777/Final-Project/2.gafgyt.udp.csv', '/content/drive/MyDrive/CS777/Final-Project/2.mirai.ack.csv', '/content/drive/MyDrive/CS777/Final-Project/2.mirai.scan.csv', '/content/drive/MyDrive/CS777/Final-Project/2.mirai.syn.csv', '/content/drive/MyDrive/CS777/Final-Project/2.mirai.udp.csv', '/content/drive/MyDrive/CS777/Final-Project/2.mirai.udpplain.csv', '/content/drive/MyDrive/CS777/Final-Project/3.benign.csv', '/content/drive/MyDrive/CS777/Final-Project/3.gafgyt.combo.csv', '/content/drive/MyDrive/CS777/Final-Project/3.gafgyt.tcp.csv', '/content/drive/MyDrive/CS777/Final-Project/3.gafgyt.udp.csv', '/content/drive/MyDrive/CS777/Final-Project/4.benign.csv', '/content/drive/MyDrive/CS777/Final-Project/4.gafgyt.combo.csv', '/content/drive/MyDrive/CS777/Final-Project/4.gafgyt.tcp.csv', '/content/drive/MyDrive/CS777/Final-Project/4.gafgyt.udp.csv', '/content/drive/MyDrive/CS777/Final-Project/4.mirai.ack.csv', '/content/drive/MyDrive/CS777/Final-Project/4.mirai.scan.csv', '/content/drive/MyDrive/CS777/Final-Project/4.mirai.syn.csv', '/content/drive/MyDrive/CS777/Final-Project/4.mirai.udp.csv', '/content/drive/MyDrive/CS777/Final-Project/5.benign.csv', '/content/drive/MyDrive/CS777/Final-Project/4.mirai.udpplain.csv', '/content/drive/MyDrive/CS777/Final-Project/5.gafgyt.combo.csv', '/content/drive/MyDrive/CS777/Final-Project/5.gafgyt.tcp.csv', '/content/drive/MyDrive/CS777/Final-Project/5.gafgyt.udp.csv', '/content/drive/MyDrive/CS777/Final-Project/5.mirai.ack.csv', '/content/drive/MyDrive/CS777/Final-Project/5.mirai.scan.csv', '/content/drive/MyDrive/CS777/Final-Project/5.mirai.syn.csv', '/content/drive/MyDrive/CS777/Final-Project/5.mirai.udp.csv', '/content/drive/MyDrive/CS777/Final-Project/5.mirai.udpplain.csv', '/content/drive/MyDrive/CS777/Final-Project/6.benign.csv', '/content/drive/MyDrive/CS777/Final-Project/6.gafgyt.combo.csv', '/content/drive/MyDrive/CS777/Final-Project/6.gafgyt.tcp.csv', '/content/drive/MyDrive/CS777/Final-Project/6.gafgyt.udp.csv', '/content/drive/MyDrive/CS777/Final-Project/6.mirai.ack.csv', '/content/drive/MyDrive/CS777/Final-Project/6.mirai.scan.csv', '/content/drive/MyDrive/CS777/Final-Project/6.mirai.syn.csv', '/content/drive/MyDrive/CS777/Final-Project/6.mirai.udp.csv', '/content/drive/MyDrive/CS777/Final-Project/6.mirai.udpplain.csv', '/content/drive/MyDrive/CS777/Final-Project/7.benign.csv', '/content/drive/MyDrive/CS777/Final-Project/7.gafgyt.combo.csv', '/content/drive/MyDrive/CS777/Final-Project/7.gafgyt.tcp.csv', '/content/drive/MyDrive/CS777/Final-Project/7.gafgyt.udp.csv', '/content/drive/MyDrive/CS777/Final-Project/8.benign.csv', '/content/drive/MyDrive/CS777/Final-Project/8.gafgyt.combo.csv', '/content/drive/MyDrive/CS777/Final-Project/8.gafgyt.tcp.csv', '/content/drive/MyDrive/CS777/Final-Project/8.gafgyt.udp.csv', '/content/drive/MyDrive/CS777/Final-Project/8.mirai.ack.csv', '/content/drive/MyDrive/CS777/Final-Project/8.mirai.scan.csv', '/content/drive/MyDrive/CS777/Final-Project/8.mirai.syn.csv', '/content/drive/MyDrive/CS777/Final-Project/8.mirai.udp.csv', '/content/drive/MyDrive/CS777/Final-Project/8.mirai.udpplain.csv', '/content/drive/MyDrive/CS777/Final-Project/9.benign.csv', '/content/drive/MyDrive/CS777/Final-Project/9.gafgyt.combo.csv', '/content/drive/MyDrive/CS777/Final-Project/9.gafgyt.tcp.csv', '/content/drive/MyDrive/CS777/Final-Project/9.gafgyt.udp.csv', '/content/drive/MyDrive/CS777/Final-Project/9.mirai.ack.csv', '/content/drive/MyDrive/CS777/Final-Project/9.mirai.scan.csv', '/content/drive/MyDrive/CS777/Final-Project/9.mirai.syn.csv', '/content/drive/MyDrive/CS777/Final-Project/9.mirai.udp.csv', '/content/drive/MyDrive/CS777/Final-Project/9.mirai.udpplain.csv', '/content/drive/MyDrive/CS777/Final-Project/data_summary.csv', '/content/drive/MyDrive/CS777/Final-Project/device_info.csv', '/content/drive/MyDrive/CS777/Final-Project/features.csv']\n"
          ]
        }
      ]
    },
    {
      "cell_type": "code",
      "source": [
        "[csv_files.remove(f) for f in out_files];"
      ],
      "metadata": {
        "id": "EaRk9WVNB9yn"
      },
      "execution_count": null,
      "outputs": []
    },
    {
      "cell_type": "code",
      "source": [
        "csv_files"
      ],
      "metadata": {
        "colab": {
          "base_uri": "https://localhost:8080/"
        },
        "id": "cHFGKuU6CH-n",
        "outputId": "d8d04f25-bc65-47a8-d3f1-1273e433efda"
      },
      "execution_count": null,
      "outputs": [
        {
          "output_type": "execute_result",
          "data": {
            "text/plain": [
              "['/content/drive/MyDrive/CS777/Final-Project/1.benign.csv',\n",
              " '/content/drive/MyDrive/CS777/Final-Project/1.gafgyt.combo.csv',\n",
              " '/content/drive/MyDrive/CS777/Final-Project/1.gafgyt.tcp.csv',\n",
              " '/content/drive/MyDrive/CS777/Final-Project/1.gafgyt.udp.csv',\n",
              " '/content/drive/MyDrive/CS777/Final-Project/1.mirai.ack.csv',\n",
              " '/content/drive/MyDrive/CS777/Final-Project/1.mirai.scan.csv',\n",
              " '/content/drive/MyDrive/CS777/Final-Project/1.mirai.syn.csv',\n",
              " '/content/drive/MyDrive/CS777/Final-Project/1.mirai.udp.csv',\n",
              " '/content/drive/MyDrive/CS777/Final-Project/1.mirai.udpplain.csv',\n",
              " '/content/drive/MyDrive/CS777/Final-Project/2.benign.csv',\n",
              " '/content/drive/MyDrive/CS777/Final-Project/2.gafgyt.combo.csv',\n",
              " '/content/drive/MyDrive/CS777/Final-Project/2.gafgyt.tcp.csv',\n",
              " '/content/drive/MyDrive/CS777/Final-Project/2.gafgyt.udp.csv',\n",
              " '/content/drive/MyDrive/CS777/Final-Project/2.mirai.ack.csv',\n",
              " '/content/drive/MyDrive/CS777/Final-Project/2.mirai.scan.csv',\n",
              " '/content/drive/MyDrive/CS777/Final-Project/2.mirai.syn.csv',\n",
              " '/content/drive/MyDrive/CS777/Final-Project/2.mirai.udp.csv',\n",
              " '/content/drive/MyDrive/CS777/Final-Project/2.mirai.udpplain.csv',\n",
              " '/content/drive/MyDrive/CS777/Final-Project/3.benign.csv',\n",
              " '/content/drive/MyDrive/CS777/Final-Project/3.gafgyt.combo.csv',\n",
              " '/content/drive/MyDrive/CS777/Final-Project/3.gafgyt.tcp.csv',\n",
              " '/content/drive/MyDrive/CS777/Final-Project/3.gafgyt.udp.csv',\n",
              " '/content/drive/MyDrive/CS777/Final-Project/4.benign.csv',\n",
              " '/content/drive/MyDrive/CS777/Final-Project/4.gafgyt.combo.csv',\n",
              " '/content/drive/MyDrive/CS777/Final-Project/4.gafgyt.tcp.csv',\n",
              " '/content/drive/MyDrive/CS777/Final-Project/4.gafgyt.udp.csv',\n",
              " '/content/drive/MyDrive/CS777/Final-Project/4.mirai.ack.csv',\n",
              " '/content/drive/MyDrive/CS777/Final-Project/4.mirai.scan.csv',\n",
              " '/content/drive/MyDrive/CS777/Final-Project/4.mirai.syn.csv',\n",
              " '/content/drive/MyDrive/CS777/Final-Project/4.mirai.udp.csv',\n",
              " '/content/drive/MyDrive/CS777/Final-Project/5.benign.csv',\n",
              " '/content/drive/MyDrive/CS777/Final-Project/4.mirai.udpplain.csv',\n",
              " '/content/drive/MyDrive/CS777/Final-Project/5.gafgyt.combo.csv',\n",
              " '/content/drive/MyDrive/CS777/Final-Project/5.gafgyt.tcp.csv',\n",
              " '/content/drive/MyDrive/CS777/Final-Project/5.gafgyt.udp.csv',\n",
              " '/content/drive/MyDrive/CS777/Final-Project/5.mirai.ack.csv',\n",
              " '/content/drive/MyDrive/CS777/Final-Project/5.mirai.scan.csv',\n",
              " '/content/drive/MyDrive/CS777/Final-Project/5.mirai.syn.csv',\n",
              " '/content/drive/MyDrive/CS777/Final-Project/5.mirai.udp.csv',\n",
              " '/content/drive/MyDrive/CS777/Final-Project/5.mirai.udpplain.csv',\n",
              " '/content/drive/MyDrive/CS777/Final-Project/6.benign.csv',\n",
              " '/content/drive/MyDrive/CS777/Final-Project/6.gafgyt.combo.csv',\n",
              " '/content/drive/MyDrive/CS777/Final-Project/6.gafgyt.tcp.csv',\n",
              " '/content/drive/MyDrive/CS777/Final-Project/6.gafgyt.udp.csv',\n",
              " '/content/drive/MyDrive/CS777/Final-Project/6.mirai.ack.csv',\n",
              " '/content/drive/MyDrive/CS777/Final-Project/6.mirai.scan.csv',\n",
              " '/content/drive/MyDrive/CS777/Final-Project/6.mirai.syn.csv',\n",
              " '/content/drive/MyDrive/CS777/Final-Project/6.mirai.udp.csv',\n",
              " '/content/drive/MyDrive/CS777/Final-Project/6.mirai.udpplain.csv',\n",
              " '/content/drive/MyDrive/CS777/Final-Project/7.benign.csv',\n",
              " '/content/drive/MyDrive/CS777/Final-Project/7.gafgyt.combo.csv',\n",
              " '/content/drive/MyDrive/CS777/Final-Project/7.gafgyt.tcp.csv',\n",
              " '/content/drive/MyDrive/CS777/Final-Project/7.gafgyt.udp.csv',\n",
              " '/content/drive/MyDrive/CS777/Final-Project/8.benign.csv',\n",
              " '/content/drive/MyDrive/CS777/Final-Project/8.gafgyt.combo.csv',\n",
              " '/content/drive/MyDrive/CS777/Final-Project/8.gafgyt.tcp.csv',\n",
              " '/content/drive/MyDrive/CS777/Final-Project/8.gafgyt.udp.csv',\n",
              " '/content/drive/MyDrive/CS777/Final-Project/8.mirai.ack.csv',\n",
              " '/content/drive/MyDrive/CS777/Final-Project/8.mirai.scan.csv',\n",
              " '/content/drive/MyDrive/CS777/Final-Project/8.mirai.syn.csv',\n",
              " '/content/drive/MyDrive/CS777/Final-Project/8.mirai.udp.csv',\n",
              " '/content/drive/MyDrive/CS777/Final-Project/8.mirai.udpplain.csv',\n",
              " '/content/drive/MyDrive/CS777/Final-Project/9.benign.csv',\n",
              " '/content/drive/MyDrive/CS777/Final-Project/9.gafgyt.combo.csv',\n",
              " '/content/drive/MyDrive/CS777/Final-Project/9.gafgyt.tcp.csv',\n",
              " '/content/drive/MyDrive/CS777/Final-Project/9.gafgyt.udp.csv',\n",
              " '/content/drive/MyDrive/CS777/Final-Project/9.mirai.ack.csv',\n",
              " '/content/drive/MyDrive/CS777/Final-Project/9.mirai.scan.csv',\n",
              " '/content/drive/MyDrive/CS777/Final-Project/9.mirai.syn.csv',\n",
              " '/content/drive/MyDrive/CS777/Final-Project/9.mirai.udp.csv',\n",
              " '/content/drive/MyDrive/CS777/Final-Project/9.mirai.udpplain.csv']"
            ]
          },
          "metadata": {},
          "execution_count": 8
        }
      ]
    },
    {
      "cell_type": "code",
      "source": [
        "from pyspark.sql.types import StructType,StructField, StringType, IntegerType, DoubleType, FloatType\n",
        "\n",
        "schema = StructType([\n",
        "    StructField(\"MI_dir_L5_weight\", DoubleType(), True),\n",
        "    StructField(\"MI_dir_L5_mean\", DoubleType(), True),\n",
        "    StructField(\"MI_dir_L5_variance\", DoubleType(), True),\n",
        "    StructField(\"MI_dir_L3_weight\", DoubleType(), True),\n",
        "    StructField(\"MI_dir_L3_mean\", DoubleType(), True),\n",
        "    StructField(\"MI_dir_L3_variance\", DoubleType(), True),\n",
        "    StructField(\"MI_dir_L1_weight\", DoubleType(), True),\n",
        "    StructField(\"MI_dir_L1_mean\", DoubleType(), True),\n",
        "    StructField(\"MI_dir_L1_variance\", DoubleType(), True),\n",
        "    StructField(\"MI_dir_L0_1_weight\", DoubleType(), True),\n",
        "    StructField(\"MI_dir_L0_1_mean\", DoubleType(), True),\n",
        "    StructField(\"MI_dir_L0_1_variance\", DoubleType(), True),\n",
        "    StructField(\"MI_dir_L0_01_weight\", DoubleType(), True),\n",
        "    StructField(\"MI_dir_L0_01_mean\", DoubleType(), True),\n",
        "    StructField(\"MI_dir_L0_01_variance\", DoubleType(), True),\n",
        "    StructField(\"H_L5_weight\", DoubleType(), True),\n",
        "    StructField(\"H_L5_mean\", DoubleType(), True),\n",
        "    StructField(\"H_L5_variance\", DoubleType(), True),\n",
        "    StructField(\"H_L3_weight\", DoubleType(), True),\n",
        "    StructField(\"H_L3_mean\", DoubleType(), True),\n",
        "    StructField(\"H_L3_variance\", DoubleType(), True),\n",
        "    StructField(\"H_L1_weight\", DoubleType(), True),\n",
        "    StructField(\"H_L1_mean\", DoubleType(), True),\n",
        "    StructField(\"H_L1_variance\", DoubleType(), True),\n",
        "    StructField(\"H_L0_1_weight\", DoubleType(), True),\n",
        "    StructField(\"H_L0_1_mean\", DoubleType(), True),\n",
        "    StructField(\"H_L0_1_variance\", DoubleType(), True),\n",
        "    StructField(\"H_L0_01_weight\", DoubleType(), True),\n",
        "    StructField(\"H_L0_01_mean\", DoubleType(), True),\n",
        "    StructField(\"H_L0_01_variance\", DoubleType(), True),\n",
        "    StructField(\"HH_L5_weight\", DoubleType(), True),\n",
        "    StructField(\"HH_L5_mean\", DoubleType(), True),\n",
        "    StructField(\"HH_L5_std\", DoubleType(), True),\n",
        "    StructField(\"HH_L5_magnitude\", DoubleType(), True),\n",
        "    StructField(\"HH_L5_radius\", DoubleType(), True),\n",
        "    StructField(\"HH_L5_covariance\", DoubleType(), True),\n",
        "    StructField(\"HH_L5_pcc\", DoubleType(), True),\n",
        "    StructField(\"HH_L3_weight\", DoubleType(), True),\n",
        "    StructField(\"HH_L3_mean\", DoubleType(), True),\n",
        "    StructField(\"HH_L3_std\", DoubleType(), True),\n",
        "    StructField(\"HH_L3_magnitude\", DoubleType(), True),\n",
        "    StructField(\"HH_L3_radius\", DoubleType(), True),\n",
        "    StructField(\"HH_L3_covariance\", DoubleType(), True),\n",
        "    StructField(\"HH_L3_pcc\", DoubleType(), True),\n",
        "    StructField(\"HH_L1_weight\", DoubleType(), True),\n",
        "    StructField(\"HH_L1_mean\", DoubleType(), True),\n",
        "    StructField(\"HH_L1_std\", DoubleType(), True),\n",
        "    StructField(\"HH_L1_magnitude\", DoubleType(), True),\n",
        "    StructField(\"HH_L1_radius\", DoubleType(), True),\n",
        "    StructField(\"HH_L1_covariance\", DoubleType(), True),\n",
        "    StructField(\"HH_L1_pcc\", DoubleType(), True),\n",
        "    StructField(\"HH_L0_1_weight\", DoubleType(), True),\n",
        "    StructField(\"HH_L0_1_mean\", DoubleType(), True),\n",
        "    StructField(\"HH_L0_1_std\", DoubleType(), True),\n",
        "    StructField(\"HH_L0_1_magnitude\", DoubleType(), True),\n",
        "    StructField(\"HH_L0_1_radius\", DoubleType(), True),\n",
        "    StructField(\"HH_L0_1_covariance\", DoubleType(), True),\n",
        "    StructField(\"HH_L0_1_pcc\", DoubleType(), True),\n",
        "    StructField(\"HH_L0_01_weight\", DoubleType(), True),\n",
        "    StructField(\"HH_L0_01_mean\", DoubleType(), True),\n",
        "    StructField(\"HH_L0_01_std\", DoubleType(), True),\n",
        "    StructField(\"HH_L0_01_magnitude\", DoubleType(), True),\n",
        "    StructField(\"HH_L0_01_radius\", DoubleType(), True),\n",
        "    StructField(\"HH_L0_01_covariance\", DoubleType(), True),\n",
        "    StructField(\"HH_L0_01_pcc\", DoubleType(), True),\n",
        "    StructField(\"HH_jit_L5_weight\", DoubleType(), True),\n",
        "    StructField(\"HH_jit_L5_mean\", DoubleType(), True),\n",
        "    StructField(\"HH_jit_L5_variance\", DoubleType(), True),\n",
        "    StructField(\"HH_jit_L3_weight\", DoubleType(), True),\n",
        "    StructField(\"HH_jit_L3_mean\", DoubleType(), True),\n",
        "    StructField(\"HH_jit_L3_variance\", DoubleType(), True),\n",
        "    StructField(\"HH_jit_L1_weight\", DoubleType(), True),\n",
        "    StructField(\"HH_jit_L1_mean\", DoubleType(), True),\n",
        "    StructField(\"HH_jit_L1_variance\", DoubleType(), True),\n",
        "    StructField(\"HH_jit_L0_1_weight\", DoubleType(), True),\n",
        "    StructField(\"HH_jit_L0_1_mean\", DoubleType(), True),\n",
        "    StructField(\"HH_jit_L0_1_variance\", DoubleType(), True),\n",
        "    StructField(\"HH_jit_L0_01_weight\", DoubleType(), True),\n",
        "    StructField(\"HH_jit_L0_01_mean\", DoubleType(), True),\n",
        "    StructField(\"HH_jit_L0_01_variance\", DoubleType(), True),\n",
        "    StructField(\"HpHp_L5_weight\", DoubleType(), True),\n",
        "    StructField(\"HpHp_L5_mean\", DoubleType(), True),\n",
        "    StructField(\"HpHp_L5_std\", DoubleType(), True),\n",
        "    StructField(\"HpHp_L5_magnitude\", DoubleType(), True),\n",
        "    StructField(\"HpHp_L5_radius\", DoubleType(), True),\n",
        "    StructField(\"HpHp_L5_covariance\", DoubleType(), True),\n",
        "    StructField(\"HpHp_L5_pcc\", DoubleType(), True),\n",
        "    StructField(\"HpHp_L3_weight\", DoubleType(), True),\n",
        "    StructField(\"HpHp_L3_mean\", DoubleType(), True),\n",
        "    StructField(\"HpHp_L3_std\", DoubleType(), True),\n",
        "    StructField(\"HpHp_L3_magnitude\", DoubleType(), True),\n",
        "    StructField(\"HpHp_L3_radius\", DoubleType(), True),\n",
        "    StructField(\"HpHp_L3_covariance\", DoubleType(), True),\n",
        "    StructField(\"HpHp_L3_pcc\", DoubleType(), True),\n",
        "    StructField(\"HpHp_L1_weight\", DoubleType(), True),\n",
        "    StructField(\"HpHp_L1_mean\", DoubleType(), True),\n",
        "    StructField(\"HpHp_L1_std\", DoubleType(), True),\n",
        "    StructField(\"HpHp_L1_magnitude\", DoubleType(), True),\n",
        "    StructField(\"HpHp_L1_radius\", DoubleType(), True),\n",
        "    StructField(\"HpHp_L1_covariance\", DoubleType(), True),\n",
        "    StructField(\"HpHp_L1_pcc\", DoubleType(), True),\n",
        "    StructField(\"HpHp_L0_1_weight\", DoubleType(), True),\n",
        "    StructField(\"HpHp_L0_1_mean\", DoubleType(), True),\n",
        "    StructField(\"HpHp_L0_1_std\", DoubleType(), True),\n",
        "    StructField(\"HpHp_L0_1_magnitude\", DoubleType(), True),\n",
        "    StructField(\"HpHp_L0_1_radius\", DoubleType(), True),\n",
        "    StructField(\"HpHp_L0_1_covariance\", DoubleType(), True),\n",
        "    StructField(\"HpHp_L0_1_pcc\", DoubleType(), True),\n",
        "    StructField(\"HpHp_L0_01_weight\", DoubleType(), True),\n",
        "    StructField(\"HpHp_L0_01_mean\", DoubleType(), True),\n",
        "    StructField(\"HpHp_L0_01_std\", DoubleType(), True),\n",
        "    StructField(\"HpHp_L0_01_magnitude\", DoubleType(), True),\n",
        "    StructField(\"HpHp_L0_01_radius\", DoubleType(), True),\n",
        "    StructField(\"HpHp_L0_01_covariance\", DoubleType(), True),\n",
        "    StructField(\"HpHp_L0_01_pcc\", DoubleType(), True)\n",
        "  ])\n",
        "\n",
        "len(schema)"
      ],
      "metadata": {
        "colab": {
          "base_uri": "https://localhost:8080/"
        },
        "id": "v48o0l4xCMYp",
        "outputId": "7027a3bb-8597-4e99-f1c8-a26eea4fe249"
      },
      "execution_count": null,
      "outputs": [
        {
          "output_type": "execute_result",
          "data": {
            "text/plain": [
              "115"
            ]
          },
          "metadata": {},
          "execution_count": 9
        }
      ]
    },
    {
      "cell_type": "code",
      "source": [
        "df = sql_context.read.csv(csv_files,\n",
        "                  header=False,\n",
        "                  schema=schema\n",
        "                 )\n",
        "\n",
        "df.printSchema()"
      ],
      "metadata": {
        "colab": {
          "base_uri": "https://localhost:8080/"
        },
        "id": "KnAWgg3TCVNz",
        "outputId": "a4c68a1f-8b5b-4a1e-c402-953b433358e1"
      },
      "execution_count": null,
      "outputs": [
        {
          "output_type": "stream",
          "name": "stdout",
          "text": [
            "root\n",
            " |-- MI_dir_L5_weight: double (nullable = true)\n",
            " |-- MI_dir_L5_mean: double (nullable = true)\n",
            " |-- MI_dir_L5_variance: double (nullable = true)\n",
            " |-- MI_dir_L3_weight: double (nullable = true)\n",
            " |-- MI_dir_L3_mean: double (nullable = true)\n",
            " |-- MI_dir_L3_variance: double (nullable = true)\n",
            " |-- MI_dir_L1_weight: double (nullable = true)\n",
            " |-- MI_dir_L1_mean: double (nullable = true)\n",
            " |-- MI_dir_L1_variance: double (nullable = true)\n",
            " |-- MI_dir_L0_1_weight: double (nullable = true)\n",
            " |-- MI_dir_L0_1_mean: double (nullable = true)\n",
            " |-- MI_dir_L0_1_variance: double (nullable = true)\n",
            " |-- MI_dir_L0_01_weight: double (nullable = true)\n",
            " |-- MI_dir_L0_01_mean: double (nullable = true)\n",
            " |-- MI_dir_L0_01_variance: double (nullable = true)\n",
            " |-- H_L5_weight: double (nullable = true)\n",
            " |-- H_L5_mean: double (nullable = true)\n",
            " |-- H_L5_variance: double (nullable = true)\n",
            " |-- H_L3_weight: double (nullable = true)\n",
            " |-- H_L3_mean: double (nullable = true)\n",
            " |-- H_L3_variance: double (nullable = true)\n",
            " |-- H_L1_weight: double (nullable = true)\n",
            " |-- H_L1_mean: double (nullable = true)\n",
            " |-- H_L1_variance: double (nullable = true)\n",
            " |-- H_L0_1_weight: double (nullable = true)\n",
            " |-- H_L0_1_mean: double (nullable = true)\n",
            " |-- H_L0_1_variance: double (nullable = true)\n",
            " |-- H_L0_01_weight: double (nullable = true)\n",
            " |-- H_L0_01_mean: double (nullable = true)\n",
            " |-- H_L0_01_variance: double (nullable = true)\n",
            " |-- HH_L5_weight: double (nullable = true)\n",
            " |-- HH_L5_mean: double (nullable = true)\n",
            " |-- HH_L5_std: double (nullable = true)\n",
            " |-- HH_L5_magnitude: double (nullable = true)\n",
            " |-- HH_L5_radius: double (nullable = true)\n",
            " |-- HH_L5_covariance: double (nullable = true)\n",
            " |-- HH_L5_pcc: double (nullable = true)\n",
            " |-- HH_L3_weight: double (nullable = true)\n",
            " |-- HH_L3_mean: double (nullable = true)\n",
            " |-- HH_L3_std: double (nullable = true)\n",
            " |-- HH_L3_magnitude: double (nullable = true)\n",
            " |-- HH_L3_radius: double (nullable = true)\n",
            " |-- HH_L3_covariance: double (nullable = true)\n",
            " |-- HH_L3_pcc: double (nullable = true)\n",
            " |-- HH_L1_weight: double (nullable = true)\n",
            " |-- HH_L1_mean: double (nullable = true)\n",
            " |-- HH_L1_std: double (nullable = true)\n",
            " |-- HH_L1_magnitude: double (nullable = true)\n",
            " |-- HH_L1_radius: double (nullable = true)\n",
            " |-- HH_L1_covariance: double (nullable = true)\n",
            " |-- HH_L1_pcc: double (nullable = true)\n",
            " |-- HH_L0_1_weight: double (nullable = true)\n",
            " |-- HH_L0_1_mean: double (nullable = true)\n",
            " |-- HH_L0_1_std: double (nullable = true)\n",
            " |-- HH_L0_1_magnitude: double (nullable = true)\n",
            " |-- HH_L0_1_radius: double (nullable = true)\n",
            " |-- HH_L0_1_covariance: double (nullable = true)\n",
            " |-- HH_L0_1_pcc: double (nullable = true)\n",
            " |-- HH_L0_01_weight: double (nullable = true)\n",
            " |-- HH_L0_01_mean: double (nullable = true)\n",
            " |-- HH_L0_01_std: double (nullable = true)\n",
            " |-- HH_L0_01_magnitude: double (nullable = true)\n",
            " |-- HH_L0_01_radius: double (nullable = true)\n",
            " |-- HH_L0_01_covariance: double (nullable = true)\n",
            " |-- HH_L0_01_pcc: double (nullable = true)\n",
            " |-- HH_jit_L5_weight: double (nullable = true)\n",
            " |-- HH_jit_L5_mean: double (nullable = true)\n",
            " |-- HH_jit_L5_variance: double (nullable = true)\n",
            " |-- HH_jit_L3_weight: double (nullable = true)\n",
            " |-- HH_jit_L3_mean: double (nullable = true)\n",
            " |-- HH_jit_L3_variance: double (nullable = true)\n",
            " |-- HH_jit_L1_weight: double (nullable = true)\n",
            " |-- HH_jit_L1_mean: double (nullable = true)\n",
            " |-- HH_jit_L1_variance: double (nullable = true)\n",
            " |-- HH_jit_L0_1_weight: double (nullable = true)\n",
            " |-- HH_jit_L0_1_mean: double (nullable = true)\n",
            " |-- HH_jit_L0_1_variance: double (nullable = true)\n",
            " |-- HH_jit_L0_01_weight: double (nullable = true)\n",
            " |-- HH_jit_L0_01_mean: double (nullable = true)\n",
            " |-- HH_jit_L0_01_variance: double (nullable = true)\n",
            " |-- HpHp_L5_weight: double (nullable = true)\n",
            " |-- HpHp_L5_mean: double (nullable = true)\n",
            " |-- HpHp_L5_std: double (nullable = true)\n",
            " |-- HpHp_L5_magnitude: double (nullable = true)\n",
            " |-- HpHp_L5_radius: double (nullable = true)\n",
            " |-- HpHp_L5_covariance: double (nullable = true)\n",
            " |-- HpHp_L5_pcc: double (nullable = true)\n",
            " |-- HpHp_L3_weight: double (nullable = true)\n",
            " |-- HpHp_L3_mean: double (nullable = true)\n",
            " |-- HpHp_L3_std: double (nullable = true)\n",
            " |-- HpHp_L3_magnitude: double (nullable = true)\n",
            " |-- HpHp_L3_radius: double (nullable = true)\n",
            " |-- HpHp_L3_covariance: double (nullable = true)\n",
            " |-- HpHp_L3_pcc: double (nullable = true)\n",
            " |-- HpHp_L1_weight: double (nullable = true)\n",
            " |-- HpHp_L1_mean: double (nullable = true)\n",
            " |-- HpHp_L1_std: double (nullable = true)\n",
            " |-- HpHp_L1_magnitude: double (nullable = true)\n",
            " |-- HpHp_L1_radius: double (nullable = true)\n",
            " |-- HpHp_L1_covariance: double (nullable = true)\n",
            " |-- HpHp_L1_pcc: double (nullable = true)\n",
            " |-- HpHp_L0_1_weight: double (nullable = true)\n",
            " |-- HpHp_L0_1_mean: double (nullable = true)\n",
            " |-- HpHp_L0_1_std: double (nullable = true)\n",
            " |-- HpHp_L0_1_magnitude: double (nullable = true)\n",
            " |-- HpHp_L0_1_radius: double (nullable = true)\n",
            " |-- HpHp_L0_1_covariance: double (nullable = true)\n",
            " |-- HpHp_L0_1_pcc: double (nullable = true)\n",
            " |-- HpHp_L0_01_weight: double (nullable = true)\n",
            " |-- HpHp_L0_01_mean: double (nullable = true)\n",
            " |-- HpHp_L0_01_std: double (nullable = true)\n",
            " |-- HpHp_L0_01_magnitude: double (nullable = true)\n",
            " |-- HpHp_L0_01_radius: double (nullable = true)\n",
            " |-- HpHp_L0_01_covariance: double (nullable = true)\n",
            " |-- HpHp_L0_01_pcc: double (nullable = true)\n",
            "\n"
          ]
        }
      ]
    },
    {
      "cell_type": "code",
      "source": [
        "df = df.na.drop()"
      ],
      "metadata": {
        "id": "cmtsvOPdCXeK"
      },
      "execution_count": null,
      "outputs": []
    },
    {
      "cell_type": "code",
      "source": [
        "from  pyspark.sql.functions import input_file_name\n",
        "\n",
        "df = df.withColumn(\"path\", input_file_name())"
      ],
      "metadata": {
        "id": "T70LE-RwCqki"
      },
      "execution_count": null,
      "outputs": []
    },
    {
      "cell_type": "code",
      "source": [
        "df.show(5)"
      ],
      "metadata": {
        "colab": {
          "base_uri": "https://localhost:8080/"
        },
        "id": "N94qiL-oCusp",
        "outputId": "978136cb-e89d-4ca1-a526-7a0b0a0a29bf"
      },
      "execution_count": null,
      "outputs": [
        {
          "output_type": "stream",
          "name": "stdout",
          "text": [
            "+-----------------+-----------------+--------------------+------------------+-----------------+--------------------+------------------+-----------------+--------------------+------------------+-----------------+--------------------+-------------------+-----------------+---------------------+-----------------+-----------------+--------------------+------------------+-----------------+--------------------+------------------+-----------------+--------------------+------------------+-----------------+--------------------+------------------+-----------------+--------------------+-----------------+-----------------+--------------------+-----------------+--------------------+----------------+---------+------------------+-----------------+----------------+-----------------+--------------------+----------------+---------+------------------+-----------------+--------------------+-----------------+--------------------+----------------+---------+------------------+-----------------+--------------------+-----------------+--------------------+------------------+-----------+------------------+-----------------+--------------------+------------------+--------------------+-------------------+------------+-----------------+--------------------+--------------------+------------------+--------------------+--------------------+------------------+--------------------+--------------------+------------------+--------------------+--------------------+-------------------+-------------------+---------------------+--------------+------------+-----------+-----------------+--------------+------------------+-----------+--------------+------------+-----------+-----------------+--------------+------------------+-----------+--------------+------------+-----------+-----------------+--------------+------------------+-----------+----------------+--------------+-------------+-------------------+----------------+--------------------+-------------+-----------------+---------------+--------------+--------------------+-----------------+---------------------+--------------+--------------------+\n",
            "| MI_dir_L5_weight|   MI_dir_L5_mean|  MI_dir_L5_variance|  MI_dir_L3_weight|   MI_dir_L3_mean|  MI_dir_L3_variance|  MI_dir_L1_weight|   MI_dir_L1_mean|  MI_dir_L1_variance|MI_dir_L0_1_weight| MI_dir_L0_1_mean|MI_dir_L0_1_variance|MI_dir_L0_01_weight|MI_dir_L0_01_mean|MI_dir_L0_01_variance|      H_L5_weight|        H_L5_mean|       H_L5_variance|       H_L3_weight|        H_L3_mean|       H_L3_variance|       H_L1_weight|        H_L1_mean|       H_L1_variance|     H_L0_1_weight|      H_L0_1_mean|     H_L0_1_variance|    H_L0_01_weight|     H_L0_01_mean|    H_L0_01_variance|     HH_L5_weight|       HH_L5_mean|           HH_L5_std|  HH_L5_magnitude|        HH_L5_radius|HH_L5_covariance|HH_L5_pcc|      HH_L3_weight|       HH_L3_mean|       HH_L3_std|  HH_L3_magnitude|        HH_L3_radius|HH_L3_covariance|HH_L3_pcc|      HH_L1_weight|       HH_L1_mean|           HH_L1_std|  HH_L1_magnitude|        HH_L1_radius|HH_L1_covariance|HH_L1_pcc|    HH_L0_1_weight|     HH_L0_1_mean|         HH_L0_1_std|HH_L0_1_magnitude|      HH_L0_1_radius|HH_L0_1_covariance|HH_L0_1_pcc|   HH_L0_01_weight|    HH_L0_01_mean|        HH_L0_01_std|HH_L0_01_magnitude|     HH_L0_01_radius|HH_L0_01_covariance|HH_L0_01_pcc| HH_jit_L5_weight|      HH_jit_L5_mean|  HH_jit_L5_variance|  HH_jit_L3_weight|      HH_jit_L3_mean|  HH_jit_L3_variance|  HH_jit_L1_weight|      HH_jit_L1_mean|  HH_jit_L1_variance|HH_jit_L0_1_weight|    HH_jit_L0_1_mean|HH_jit_L0_1_variance|HH_jit_L0_01_weight|  HH_jit_L0_01_mean|HH_jit_L0_01_variance|HpHp_L5_weight|HpHp_L5_mean|HpHp_L5_std|HpHp_L5_magnitude|HpHp_L5_radius|HpHp_L5_covariance|HpHp_L5_pcc|HpHp_L3_weight|HpHp_L3_mean|HpHp_L3_std|HpHp_L3_magnitude|HpHp_L3_radius|HpHp_L3_covariance|HpHp_L3_pcc|HpHp_L1_weight|HpHp_L1_mean|HpHp_L1_std|HpHp_L1_magnitude|HpHp_L1_radius|HpHp_L1_covariance|HpHp_L1_pcc|HpHp_L0_1_weight|HpHp_L0_1_mean|HpHp_L0_1_std|HpHp_L0_1_magnitude|HpHp_L0_1_radius|HpHp_L0_1_covariance|HpHp_L0_1_pcc|HpHp_L0_01_weight|HpHp_L0_01_mean|HpHp_L0_01_std|HpHp_L0_01_magnitude|HpHp_L0_01_radius|HpHp_L0_01_covariance|HpHp_L0_01_pcc|                path|\n",
            "+-----------------+-----------------+--------------------+------------------+-----------------+--------------------+------------------+-----------------+--------------------+------------------+-----------------+--------------------+-------------------+-----------------+---------------------+-----------------+-----------------+--------------------+------------------+-----------------+--------------------+------------------+-----------------+--------------------+------------------+-----------------+--------------------+------------------+-----------------+--------------------+-----------------+-----------------+--------------------+-----------------+--------------------+----------------+---------+------------------+-----------------+----------------+-----------------+--------------------+----------------+---------+------------------+-----------------+--------------------+-----------------+--------------------+----------------+---------+------------------+-----------------+--------------------+-----------------+--------------------+------------------+-----------+------------------+-----------------+--------------------+------------------+--------------------+-------------------+------------+-----------------+--------------------+--------------------+------------------+--------------------+--------------------+------------------+--------------------+--------------------+------------------+--------------------+--------------------+-------------------+-------------------+---------------------+--------------+------------+-----------+-----------------+--------------+------------------+-----------+--------------+------------+-----------+-----------------+--------------+------------------+-----------+--------------+------------+-----------+-----------------+--------------+------------------+-----------+----------------+--------------+-------------+-------------------+----------------+--------------------+-------------+-----------------+---------------+--------------+--------------------+-----------------+---------------------+--------------+--------------------+\n",
            "|              1.0|            566.0|                 0.0|               1.0|            566.0|                 0.0|               1.0|            566.0|                 0.0|               1.0|            566.0|                 0.0|                1.0|            566.0|                  0.0|              1.0|            566.0|                 0.0|               1.0|            566.0|                 0.0|               1.0|            566.0|                 0.0|               1.0|            566.0|                 0.0|               1.0|            566.0|                 0.0|              1.0|            566.0|                 0.0|            566.0|                 0.0|             0.0|      0.0|               1.0|            566.0|             0.0|            566.0|                 0.0|             0.0|      0.0|               1.0|            566.0|                 0.0|            566.0|                 0.0|             0.0|      0.0|               1.0|            566.0|                 0.0|            566.0|                 0.0|               0.0|        0.0|               1.0|            566.0|                 0.0|             566.0|                 0.0|                0.0|         0.0|              1.0| 1.507657906041672E9|                 0.0|               1.0| 1.507657906041672E9|                 0.0|               1.0| 1.507657906041672E9|                 0.0|               1.0| 1.507657906041672E9|                 0.0|                1.0|1.507657906041672E9|                  0.0|           1.0|       566.0|        0.0|            566.0|           0.0|               0.0|        0.0|           1.0|       566.0|        0.0|            566.0|           0.0|               0.0|        0.0|           1.0|       566.0|        0.0|            566.0|           0.0|               0.0|        0.0|             1.0|         566.0|          0.0|              566.0|             0.0|                 0.0|          0.0|              1.0|          566.0|           0.0|               566.0|              0.0|                  0.0|           0.0|file:///content/d...|\n",
            "|1.996584979757385|            566.0|5.820766091346741...| 1.997949586135936|            566.0|5.820766091346741...|1.9993160610461285|            566.0|                 0.0| 1.999931585045728|565.9999999999999|1.746229827404022...| 1.9999931582939363|565.9999999999999| 1.164153218269347...|1.996584979757385|            566.0|5.820766091346741...| 1.997949586135936|            566.0|5.820766091346741...|1.9993160610461285|            566.0|                 0.0| 1.999931585045728|565.9999999999999|1.746229827404022...|1.9999931582939363|565.9999999999999|1.164153218269347...|1.996584979757385|            566.0|    7.62939453125E-6|            566.0|5.820766091346741...|             0.0|      0.0| 1.997949586135936|            566.0|7.62939453125E-6|            566.0|5.820766091346741...|             0.0|      0.0|1.9993160610461285|            566.0|                 0.0|            566.0|                 0.0|             0.0|      0.0| 1.999931585045728|565.9999999999999|1.321449895911313...|565.9999999999999|1.746229827404022...|               0.0|        0.0|1.9999931582939363|565.9999999999999|1.078959321878887...| 565.9999999999999|1.164153218269347...|                0.0|         0.0|1.996584979757385| 7.525395808382598E8|5.682564279311193E17| 1.997949586135936| 7.530553292286515E8|5.682574919179731...|1.9993160610461285| 7.535710783432975E8|5.682580239123961...| 1.999931585045728| 7.538031655525305E8|5.682580897467520...| 1.9999931582939363|7.538263742744485E8| 5.682580904050958...|           1.0|       566.0|        0.0|            566.0|           0.0|               0.0|        0.0|           1.0|       566.0|        0.0|            566.0|           0.0|               0.0|        0.0|           1.0|       566.0|        0.0|            566.0|           0.0|               0.0|        0.0|             1.0|         566.0|          0.0|              566.0|             0.0|                 0.0|          0.0|              1.0|          566.0|           0.0|               566.0|              0.0|                  0.0|           0.0|file:///content/d...|\n",
            "| 2.95898885364702|            566.0|                 0.0|2.9752907261465067|            566.0|5.820766091346741...|2.9917291882116834|            566.0|5.820766091346741...|2.9991713651077982|            566.0|                 0.0| 2.9999171209521034|565.9999999999999| 5.820766091346741...| 2.95898885364702|            566.0|                 0.0|2.9752907261465067|            566.0|5.820766091346741...|2.9917291882116834|            566.0|5.820766091346741...|2.9991713651077982|            566.0|                 0.0|2.9999171209521034|565.9999999999999|5.820766091346741...| 2.95898885364702|            566.0|                 0.0|            566.0|                 0.0|             0.0|      0.0|2.9752907261465067|            566.0|7.62939453125E-6|            566.0|5.820766091346741...|             0.0|      0.0|2.9917291882116834|            566.0|    7.62939453125E-6|            566.0|5.820766091346741...|             0.0|      0.0|2.9991713651077982|            566.0|                 0.0|            566.0|                 0.0|               0.0|        0.0|2.9999171209521034|565.9999999999999|    7.62939453125E-6| 565.9999999999999|5.820766091346741...|                0.0|         0.0| 2.95898885364702|4.9821635825996155E8|5.029202918088146...|2.9752907261465067| 4.999522214868082E8|5.038046955948150...|2.9917291882116834| 5.016862883338574E8|5.046821670537799...|2.9991713651077982|5.0246602146108186E8|5.050747670469228...| 2.9999171209521034| 5.02543974169436E8| 5.051139498128887E17|           1.0|       566.0|        0.0|            566.0|           0.0|               0.0|        0.0|           1.0|       566.0|        0.0|            566.0|           0.0|               0.0|        0.0|           1.0|       566.0|        0.0|            566.0|           0.0|               0.0|        0.0|             1.0|         566.0|          0.0|              566.0|             0.0|                 0.0|          0.0|              1.0|          566.0|           0.0|               566.0|              0.0|                  0.0|           0.0|file:///content/d...|\n",
            "|3.958979073662585|            566.0|                 0.0| 3.975284825823592|            566.0|                 0.0| 3.991727210569656|565.9999999999999|1.164153218269347...|3.9991711668515815|            566.0|                 0.0|  3.999917101121552|565.9999999999999| 1.164153218269347...|3.958979073662585|            566.0|                 0.0| 3.975284825823592|            566.0|                 0.0| 3.991727210569656|565.9999999999999|1.164153218269347...|3.9991711668515815|            566.0|                 0.0| 3.999917101121552|565.9999999999999|1.164153218269347...|3.958979073662585|            566.0|                 0.0|            566.0|                 0.0|             0.0|      0.0| 3.975284825823592|            566.0|             0.0|            566.0|                 0.0|             0.0|      0.0| 3.991727210569656|565.9999999999999|1.078959321878887...|565.9999999999999|1.164153218269347...|             0.0|      0.0|3.9991711668515815|            566.0|                 0.0|            566.0|                 0.0|               0.0|        0.0| 3.999917101121552|565.9999999999999|1.078959321878887...| 565.9999999999999|1.164153218269347...|                0.0|         0.0|3.958979073662585| 3.723717026076032E8| 4.22748456517208E17| 3.975284825823592| 3.741870893284533E8|4.241301457422133...| 3.991727210569656|3.7600478209128505E8|4.255069862714437...|3.9991711668515815|3.7682348192040586E8|4.261249651703923...|  3.999917101121552|3.769053768023744E8| 4.261867081007356...|           1.0|       566.0|        0.0|            566.0|           0.0|               0.0|        0.0|           1.0|       566.0|        0.0|            566.0|           0.0|               0.0|        0.0|           1.0|       566.0|        0.0|            566.0|           0.0|               0.0|        0.0|             1.0|         566.0|          0.0|              566.0|             0.0|                 0.0|          0.0|              1.0|          566.0|           0.0|               566.0|              0.0|                  0.0|           0.0|file:///content/d...|\n",
            "|4.914188736850242|565.9999999999999|1.164153218269347...| 4.948238553736796|566.0000000000001|5.820766091346741...| 4.982653889052072|            566.0|5.820766091346741...|4.9982612115161364|            566.0|                 0.0|  4.999826079295096|565.9999999999999| 1.164153218269347...|4.914188736850242|565.9999999999999|1.164153218269347...| 4.948238553736796|566.0000000000001|5.820766091346741...| 4.982653889052072|            566.0|5.820766091346741...|4.9982612115161364|            566.0|                 0.0| 4.999826079295096|565.9999999999999|1.164153218269347...|4.914188736850242|565.9999999999999|1.078959321878887...|565.9999999999999|1.164153218269347...|             0.0|      0.0| 4.948238553736796|566.0000000000001|7.62939453125E-6|566.0000000000001|5.820766091346741...|             0.0|      0.0| 4.982653889052072|            566.0|    7.62939453125E-6|            566.0|5.820766091346741...|             0.0|      0.0|4.9982612115161364|            566.0|                 0.0|            566.0|                 0.0|               0.0|        0.0| 4.999826079295096|565.9999999999999|1.078959321878887...| 565.9999999999999|1.164153218269347...|                0.0|         0.0|4.914188736850242|2.9659689570773786E8|3.591969361747564...| 4.948238553736796|2.9856682865153164E8|3.609944885242821...| 4.982653889052072|3.0054202861483693E8|3.627890545720934...|4.9982612115161364|3.0143256776631755E8|3.635956010181927...|  4.999826079295096| 3.01521679285394E8|   3.6367622053556E17|           1.0|       566.0|        0.0|            566.0|           0.0|               0.0|        0.0|           1.0|       566.0|        0.0|            566.0|           0.0|               0.0|        0.0|           1.0|       566.0|        0.0|            566.0|           0.0|               0.0|        0.0|             1.0|         566.0|          0.0|              566.0|             0.0|                 0.0|          0.0|              1.0|          566.0|           0.0|               566.0|              0.0|                  0.0|           0.0|file:///content/d...|\n",
            "+-----------------+-----------------+--------------------+------------------+-----------------+--------------------+------------------+-----------------+--------------------+------------------+-----------------+--------------------+-------------------+-----------------+---------------------+-----------------+-----------------+--------------------+------------------+-----------------+--------------------+------------------+-----------------+--------------------+------------------+-----------------+--------------------+------------------+-----------------+--------------------+-----------------+-----------------+--------------------+-----------------+--------------------+----------------+---------+------------------+-----------------+----------------+-----------------+--------------------+----------------+---------+------------------+-----------------+--------------------+-----------------+--------------------+----------------+---------+------------------+-----------------+--------------------+-----------------+--------------------+------------------+-----------+------------------+-----------------+--------------------+------------------+--------------------+-------------------+------------+-----------------+--------------------+--------------------+------------------+--------------------+--------------------+------------------+--------------------+--------------------+------------------+--------------------+--------------------+-------------------+-------------------+---------------------+--------------+------------+-----------+-----------------+--------------+------------------+-----------+--------------+------------+-----------+-----------------+--------------+------------------+-----------+--------------+------------+-----------+-----------------+--------------+------------------+-----------+----------------+--------------+-------------+-------------------+----------------+--------------------+-------------+-----------------+---------------+--------------+--------------------+-----------------+---------------------+--------------+--------------------+\n",
            "only showing top 5 rows\n",
            "\n"
          ]
        }
      ]
    },
    {
      "cell_type": "code",
      "source": [
        "from pyspark.sql.functions import col, udf\n",
        "\n",
        "def getType(path):\n",
        "  sampleType = path.split('/')[-1].split('.')[1:-1]\n",
        "  return \"_\".join(sampleType)\n",
        "\n",
        "getTypeUDF = udf(lambda x:getType(x),StringType())\n",
        "df = df.withColumn(\"type\", getTypeUDF(col(\"path\")))"
      ],
      "metadata": {
        "id": "vhOKraeADYKO"
      },
      "execution_count": null,
      "outputs": []
    },
    {
      "cell_type": "code",
      "source": [
        "df = df.drop(\"path\")"
      ],
      "metadata": {
        "id": "EXFxgGdqDmfa"
      },
      "execution_count": null,
      "outputs": []
    },
    {
      "cell_type": "code",
      "source": [
        "df = df.filter(\"type != ''\")"
      ],
      "metadata": {
        "id": "HXssy-VQDn2n"
      },
      "execution_count": null,
      "outputs": []
    },
    {
      "cell_type": "code",
      "source": [
        "tmp_label_col = \"type\""
      ],
      "metadata": {
        "id": "GUosqStvDpFr"
      },
      "execution_count": null,
      "outputs": []
    },
    {
      "cell_type": "code",
      "source": [
        "df.show(5)"
      ],
      "metadata": {
        "colab": {
          "base_uri": "https://localhost:8080/"
        },
        "id": "PjxQ1TC7DqEe",
        "outputId": "eef8a90c-edcc-401f-ae98-1c067950b62a"
      },
      "execution_count": null,
      "outputs": [
        {
          "output_type": "stream",
          "name": "stdout",
          "text": [
            "+-----------------+-----------------+--------------------+------------------+-----------------+--------------------+------------------+-----------------+--------------------+------------------+-----------------+--------------------+-------------------+-----------------+---------------------+-----------------+-----------------+--------------------+------------------+-----------------+--------------------+------------------+-----------------+--------------------+------------------+-----------------+--------------------+------------------+-----------------+--------------------+-----------------+-----------------+--------------------+-----------------+--------------------+----------------+---------+------------------+-----------------+----------------+-----------------+--------------------+----------------+---------+------------------+-----------------+--------------------+-----------------+--------------------+----------------+---------+------------------+-----------------+--------------------+-----------------+--------------------+------------------+-----------+------------------+-----------------+--------------------+------------------+--------------------+-------------------+------------+-----------------+--------------------+--------------------+------------------+--------------------+--------------------+------------------+--------------------+--------------------+------------------+--------------------+--------------------+-------------------+-------------------+---------------------+--------------+------------+-----------+-----------------+--------------+------------------+-----------+--------------+------------+-----------+-----------------+--------------+------------------+-----------+--------------+------------+-----------+-----------------+--------------+------------------+-----------+----------------+--------------+-------------+-------------------+----------------+--------------------+-------------+-----------------+---------------+--------------+--------------------+-----------------+---------------------+--------------+---------+\n",
            "| MI_dir_L5_weight|   MI_dir_L5_mean|  MI_dir_L5_variance|  MI_dir_L3_weight|   MI_dir_L3_mean|  MI_dir_L3_variance|  MI_dir_L1_weight|   MI_dir_L1_mean|  MI_dir_L1_variance|MI_dir_L0_1_weight| MI_dir_L0_1_mean|MI_dir_L0_1_variance|MI_dir_L0_01_weight|MI_dir_L0_01_mean|MI_dir_L0_01_variance|      H_L5_weight|        H_L5_mean|       H_L5_variance|       H_L3_weight|        H_L3_mean|       H_L3_variance|       H_L1_weight|        H_L1_mean|       H_L1_variance|     H_L0_1_weight|      H_L0_1_mean|     H_L0_1_variance|    H_L0_01_weight|     H_L0_01_mean|    H_L0_01_variance|     HH_L5_weight|       HH_L5_mean|           HH_L5_std|  HH_L5_magnitude|        HH_L5_radius|HH_L5_covariance|HH_L5_pcc|      HH_L3_weight|       HH_L3_mean|       HH_L3_std|  HH_L3_magnitude|        HH_L3_radius|HH_L3_covariance|HH_L3_pcc|      HH_L1_weight|       HH_L1_mean|           HH_L1_std|  HH_L1_magnitude|        HH_L1_radius|HH_L1_covariance|HH_L1_pcc|    HH_L0_1_weight|     HH_L0_1_mean|         HH_L0_1_std|HH_L0_1_magnitude|      HH_L0_1_radius|HH_L0_1_covariance|HH_L0_1_pcc|   HH_L0_01_weight|    HH_L0_01_mean|        HH_L0_01_std|HH_L0_01_magnitude|     HH_L0_01_radius|HH_L0_01_covariance|HH_L0_01_pcc| HH_jit_L5_weight|      HH_jit_L5_mean|  HH_jit_L5_variance|  HH_jit_L3_weight|      HH_jit_L3_mean|  HH_jit_L3_variance|  HH_jit_L1_weight|      HH_jit_L1_mean|  HH_jit_L1_variance|HH_jit_L0_1_weight|    HH_jit_L0_1_mean|HH_jit_L0_1_variance|HH_jit_L0_01_weight|  HH_jit_L0_01_mean|HH_jit_L0_01_variance|HpHp_L5_weight|HpHp_L5_mean|HpHp_L5_std|HpHp_L5_magnitude|HpHp_L5_radius|HpHp_L5_covariance|HpHp_L5_pcc|HpHp_L3_weight|HpHp_L3_mean|HpHp_L3_std|HpHp_L3_magnitude|HpHp_L3_radius|HpHp_L3_covariance|HpHp_L3_pcc|HpHp_L1_weight|HpHp_L1_mean|HpHp_L1_std|HpHp_L1_magnitude|HpHp_L1_radius|HpHp_L1_covariance|HpHp_L1_pcc|HpHp_L0_1_weight|HpHp_L0_1_mean|HpHp_L0_1_std|HpHp_L0_1_magnitude|HpHp_L0_1_radius|HpHp_L0_1_covariance|HpHp_L0_1_pcc|HpHp_L0_01_weight|HpHp_L0_01_mean|HpHp_L0_01_std|HpHp_L0_01_magnitude|HpHp_L0_01_radius|HpHp_L0_01_covariance|HpHp_L0_01_pcc|     type|\n",
            "+-----------------+-----------------+--------------------+------------------+-----------------+--------------------+------------------+-----------------+--------------------+------------------+-----------------+--------------------+-------------------+-----------------+---------------------+-----------------+-----------------+--------------------+------------------+-----------------+--------------------+------------------+-----------------+--------------------+------------------+-----------------+--------------------+------------------+-----------------+--------------------+-----------------+-----------------+--------------------+-----------------+--------------------+----------------+---------+------------------+-----------------+----------------+-----------------+--------------------+----------------+---------+------------------+-----------------+--------------------+-----------------+--------------------+----------------+---------+------------------+-----------------+--------------------+-----------------+--------------------+------------------+-----------+------------------+-----------------+--------------------+------------------+--------------------+-------------------+------------+-----------------+--------------------+--------------------+------------------+--------------------+--------------------+------------------+--------------------+--------------------+------------------+--------------------+--------------------+-------------------+-------------------+---------------------+--------------+------------+-----------+-----------------+--------------+------------------+-----------+--------------+------------+-----------+-----------------+--------------+------------------+-----------+--------------+------------+-----------+-----------------+--------------+------------------+-----------+----------------+--------------+-------------+-------------------+----------------+--------------------+-------------+-----------------+---------------+--------------+--------------------+-----------------+---------------------+--------------+---------+\n",
            "|              1.0|            566.0|                 0.0|               1.0|            566.0|                 0.0|               1.0|            566.0|                 0.0|               1.0|            566.0|                 0.0|                1.0|            566.0|                  0.0|              1.0|            566.0|                 0.0|               1.0|            566.0|                 0.0|               1.0|            566.0|                 0.0|               1.0|            566.0|                 0.0|               1.0|            566.0|                 0.0|              1.0|            566.0|                 0.0|            566.0|                 0.0|             0.0|      0.0|               1.0|            566.0|             0.0|            566.0|                 0.0|             0.0|      0.0|               1.0|            566.0|                 0.0|            566.0|                 0.0|             0.0|      0.0|               1.0|            566.0|                 0.0|            566.0|                 0.0|               0.0|        0.0|               1.0|            566.0|                 0.0|             566.0|                 0.0|                0.0|         0.0|              1.0| 1.507657906041672E9|                 0.0|               1.0| 1.507657906041672E9|                 0.0|               1.0| 1.507657906041672E9|                 0.0|               1.0| 1.507657906041672E9|                 0.0|                1.0|1.507657906041672E9|                  0.0|           1.0|       566.0|        0.0|            566.0|           0.0|               0.0|        0.0|           1.0|       566.0|        0.0|            566.0|           0.0|               0.0|        0.0|           1.0|       566.0|        0.0|            566.0|           0.0|               0.0|        0.0|             1.0|         566.0|          0.0|              566.0|             0.0|                 0.0|          0.0|              1.0|          566.0|           0.0|               566.0|              0.0|                  0.0|           0.0|mirai_ack|\n",
            "|1.996584979757385|            566.0|5.820766091346741...| 1.997949586135936|            566.0|5.820766091346741...|1.9993160610461285|            566.0|                 0.0| 1.999931585045728|565.9999999999999|1.746229827404022...| 1.9999931582939363|565.9999999999999| 1.164153218269347...|1.996584979757385|            566.0|5.820766091346741...| 1.997949586135936|            566.0|5.820766091346741...|1.9993160610461285|            566.0|                 0.0| 1.999931585045728|565.9999999999999|1.746229827404022...|1.9999931582939363|565.9999999999999|1.164153218269347...|1.996584979757385|            566.0|    7.62939453125E-6|            566.0|5.820766091346741...|             0.0|      0.0| 1.997949586135936|            566.0|7.62939453125E-6|            566.0|5.820766091346741...|             0.0|      0.0|1.9993160610461285|            566.0|                 0.0|            566.0|                 0.0|             0.0|      0.0| 1.999931585045728|565.9999999999999|1.321449895911313...|565.9999999999999|1.746229827404022...|               0.0|        0.0|1.9999931582939363|565.9999999999999|1.078959321878887...| 565.9999999999999|1.164153218269347...|                0.0|         0.0|1.996584979757385| 7.525395808382598E8|5.682564279311193E17| 1.997949586135936| 7.530553292286515E8|5.682574919179731...|1.9993160610461285| 7.535710783432975E8|5.682580239123961...| 1.999931585045728| 7.538031655525305E8|5.682580897467520...| 1.9999931582939363|7.538263742744485E8| 5.682580904050958...|           1.0|       566.0|        0.0|            566.0|           0.0|               0.0|        0.0|           1.0|       566.0|        0.0|            566.0|           0.0|               0.0|        0.0|           1.0|       566.0|        0.0|            566.0|           0.0|               0.0|        0.0|             1.0|         566.0|          0.0|              566.0|             0.0|                 0.0|          0.0|              1.0|          566.0|           0.0|               566.0|              0.0|                  0.0|           0.0|mirai_ack|\n",
            "| 2.95898885364702|            566.0|                 0.0|2.9752907261465067|            566.0|5.820766091346741...|2.9917291882116834|            566.0|5.820766091346741...|2.9991713651077982|            566.0|                 0.0| 2.9999171209521034|565.9999999999999| 5.820766091346741...| 2.95898885364702|            566.0|                 0.0|2.9752907261465067|            566.0|5.820766091346741...|2.9917291882116834|            566.0|5.820766091346741...|2.9991713651077982|            566.0|                 0.0|2.9999171209521034|565.9999999999999|5.820766091346741...| 2.95898885364702|            566.0|                 0.0|            566.0|                 0.0|             0.0|      0.0|2.9752907261465067|            566.0|7.62939453125E-6|            566.0|5.820766091346741...|             0.0|      0.0|2.9917291882116834|            566.0|    7.62939453125E-6|            566.0|5.820766091346741...|             0.0|      0.0|2.9991713651077982|            566.0|                 0.0|            566.0|                 0.0|               0.0|        0.0|2.9999171209521034|565.9999999999999|    7.62939453125E-6| 565.9999999999999|5.820766091346741...|                0.0|         0.0| 2.95898885364702|4.9821635825996155E8|5.029202918088146...|2.9752907261465067| 4.999522214868082E8|5.038046955948150...|2.9917291882116834| 5.016862883338574E8|5.046821670537799...|2.9991713651077982|5.0246602146108186E8|5.050747670469228...| 2.9999171209521034| 5.02543974169436E8| 5.051139498128887E17|           1.0|       566.0|        0.0|            566.0|           0.0|               0.0|        0.0|           1.0|       566.0|        0.0|            566.0|           0.0|               0.0|        0.0|           1.0|       566.0|        0.0|            566.0|           0.0|               0.0|        0.0|             1.0|         566.0|          0.0|              566.0|             0.0|                 0.0|          0.0|              1.0|          566.0|           0.0|               566.0|              0.0|                  0.0|           0.0|mirai_ack|\n",
            "|3.958979073662585|            566.0|                 0.0| 3.975284825823592|            566.0|                 0.0| 3.991727210569656|565.9999999999999|1.164153218269347...|3.9991711668515815|            566.0|                 0.0|  3.999917101121552|565.9999999999999| 1.164153218269347...|3.958979073662585|            566.0|                 0.0| 3.975284825823592|            566.0|                 0.0| 3.991727210569656|565.9999999999999|1.164153218269347...|3.9991711668515815|            566.0|                 0.0| 3.999917101121552|565.9999999999999|1.164153218269347...|3.958979073662585|            566.0|                 0.0|            566.0|                 0.0|             0.0|      0.0| 3.975284825823592|            566.0|             0.0|            566.0|                 0.0|             0.0|      0.0| 3.991727210569656|565.9999999999999|1.078959321878887...|565.9999999999999|1.164153218269347...|             0.0|      0.0|3.9991711668515815|            566.0|                 0.0|            566.0|                 0.0|               0.0|        0.0| 3.999917101121552|565.9999999999999|1.078959321878887...| 565.9999999999999|1.164153218269347...|                0.0|         0.0|3.958979073662585| 3.723717026076032E8| 4.22748456517208E17| 3.975284825823592| 3.741870893284533E8|4.241301457422133...| 3.991727210569656|3.7600478209128505E8|4.255069862714437...|3.9991711668515815|3.7682348192040586E8|4.261249651703923...|  3.999917101121552|3.769053768023744E8| 4.261867081007356...|           1.0|       566.0|        0.0|            566.0|           0.0|               0.0|        0.0|           1.0|       566.0|        0.0|            566.0|           0.0|               0.0|        0.0|           1.0|       566.0|        0.0|            566.0|           0.0|               0.0|        0.0|             1.0|         566.0|          0.0|              566.0|             0.0|                 0.0|          0.0|              1.0|          566.0|           0.0|               566.0|              0.0|                  0.0|           0.0|mirai_ack|\n",
            "|4.914188736850242|565.9999999999999|1.164153218269347...| 4.948238553736796|566.0000000000001|5.820766091346741...| 4.982653889052072|            566.0|5.820766091346741...|4.9982612115161364|            566.0|                 0.0|  4.999826079295096|565.9999999999999| 1.164153218269347...|4.914188736850242|565.9999999999999|1.164153218269347...| 4.948238553736796|566.0000000000001|5.820766091346741...| 4.982653889052072|            566.0|5.820766091346741...|4.9982612115161364|            566.0|                 0.0| 4.999826079295096|565.9999999999999|1.164153218269347...|4.914188736850242|565.9999999999999|1.078959321878887...|565.9999999999999|1.164153218269347...|             0.0|      0.0| 4.948238553736796|566.0000000000001|7.62939453125E-6|566.0000000000001|5.820766091346741...|             0.0|      0.0| 4.982653889052072|            566.0|    7.62939453125E-6|            566.0|5.820766091346741...|             0.0|      0.0|4.9982612115161364|            566.0|                 0.0|            566.0|                 0.0|               0.0|        0.0| 4.999826079295096|565.9999999999999|1.078959321878887...| 565.9999999999999|1.164153218269347...|                0.0|         0.0|4.914188736850242|2.9659689570773786E8|3.591969361747564...| 4.948238553736796|2.9856682865153164E8|3.609944885242821...| 4.982653889052072|3.0054202861483693E8|3.627890545720934...|4.9982612115161364|3.0143256776631755E8|3.635956010181927...|  4.999826079295096| 3.01521679285394E8|   3.6367622053556E17|           1.0|       566.0|        0.0|            566.0|           0.0|               0.0|        0.0|           1.0|       566.0|        0.0|            566.0|           0.0|               0.0|        0.0|           1.0|       566.0|        0.0|            566.0|           0.0|               0.0|        0.0|             1.0|         566.0|          0.0|              566.0|             0.0|                 0.0|          0.0|              1.0|          566.0|           0.0|               566.0|              0.0|                  0.0|           0.0|mirai_ack|\n",
            "+-----------------+-----------------+--------------------+------------------+-----------------+--------------------+------------------+-----------------+--------------------+------------------+-----------------+--------------------+-------------------+-----------------+---------------------+-----------------+-----------------+--------------------+------------------+-----------------+--------------------+------------------+-----------------+--------------------+------------------+-----------------+--------------------+------------------+-----------------+--------------------+-----------------+-----------------+--------------------+-----------------+--------------------+----------------+---------+------------------+-----------------+----------------+-----------------+--------------------+----------------+---------+------------------+-----------------+--------------------+-----------------+--------------------+----------------+---------+------------------+-----------------+--------------------+-----------------+--------------------+------------------+-----------+------------------+-----------------+--------------------+------------------+--------------------+-------------------+------------+-----------------+--------------------+--------------------+------------------+--------------------+--------------------+------------------+--------------------+--------------------+------------------+--------------------+--------------------+-------------------+-------------------+---------------------+--------------+------------+-----------+-----------------+--------------+------------------+-----------+--------------+------------+-----------+-----------------+--------------+------------------+-----------+--------------+------------+-----------+-----------------+--------------+------------------+-----------+----------------+--------------+-------------+-------------------+----------------+--------------------+-------------+-----------------+---------------+--------------+--------------------+-----------------+---------------------+--------------+---------+\n",
            "only showing top 5 rows\n",
            "\n"
          ]
        }
      ]
    },
    {
      "cell_type": "code",
      "source": [
        "features_col = list(df.columns)\n",
        "features_col.remove(tmp_label_col)"
      ],
      "metadata": {
        "id": "_PW6QVBQDyFP"
      },
      "execution_count": null,
      "outputs": []
    },
    {
      "cell_type": "code",
      "source": [],
      "metadata": {
        "id": "sk8ttrkpD57l"
      },
      "execution_count": null,
      "outputs": []
    },
    {
      "cell_type": "code",
      "source": [
        "feature_col = \"selectedFeatures\"\n",
        "label_col = \"label_index\""
      ],
      "metadata": {
        "id": "76Rsz_oDEbOg"
      },
      "execution_count": null,
      "outputs": []
    },
    {
      "cell_type": "code",
      "source": [
        "df.groupBy(\"type\").count().show()"
      ],
      "metadata": {
        "colab": {
          "base_uri": "https://localhost:8080/"
        },
        "id": "Xyshdo5Mp8c5",
        "outputId": "e044794f-52ae-4fd1-afd5-af6b562f6108"
      },
      "execution_count": null,
      "outputs": [
        {
          "output_type": "stream",
          "name": "stdout",
          "text": [
            "+--------------+-------+\n",
            "|          type|  count|\n",
            "+--------------+-------+\n",
            "|     mirai_ack| 643821|\n",
            "|     mirai_syn| 733299|\n",
            "|     mirai_udp|1229999|\n",
            "|mirai_udpplain| 523304|\n",
            "|        benign| 555932|\n",
            "|  gafgyt_combo| 515156|\n",
            "|    mirai_scan| 537979|\n",
            "|    gafgyt_udp| 946366|\n",
            "|    gafgyt_tcp| 859850|\n",
            "+--------------+-------+\n",
            "\n"
          ]
        }
      ]
    },
    {
      "cell_type": "code",
      "source": [
        "train_df, test_df = df.randomSplit([.9, .1], seed = 21)"
      ],
      "metadata": {
        "id": "DRGr-ek9p4E-"
      },
      "execution_count": null,
      "outputs": []
    },
    {
      "cell_type": "code",
      "source": [
        "train_df.groupBy(\"type\").count().show()"
      ],
      "metadata": {
        "colab": {
          "base_uri": "https://localhost:8080/"
        },
        "id": "hsm4W0tWVHns",
        "outputId": "36767af4-6700-4104-aa53-0b27510e320e"
      },
      "execution_count": null,
      "outputs": [
        {
          "output_type": "stream",
          "name": "stdout",
          "text": [
            "+--------------+-------+\n",
            "|          type|  count|\n",
            "+--------------+-------+\n",
            "|     mirai_ack| 579512|\n",
            "|     mirai_syn| 659975|\n",
            "|     mirai_udp|1106933|\n",
            "|mirai_udpplain| 470581|\n",
            "|        benign| 500337|\n",
            "|  gafgyt_combo| 463846|\n",
            "|    mirai_scan| 484174|\n",
            "|    gafgyt_udp| 851343|\n",
            "|    gafgyt_tcp| 773286|\n",
            "+--------------+-------+\n",
            "\n"
          ]
        }
      ]
    },
    {
      "cell_type": "code",
      "source": [
        "# Sampling n records from each label\n",
        "n = 460000\n",
        "seed = 21\n",
        "\n",
        "fractions = train_df.groupBy(\"type\").count().withColumn(\"required_n\", n/col(\"count\"))\\\n",
        "                .drop(\"count\").rdd.collectAsMap()\n",
        "\n",
        "train_df = train_df.stat.sampleBy(\"type\", fractions, seed)\n",
        "train_df.groupBy(\"type\").count().show()"
      ],
      "metadata": {
        "id": "CvyPNYcpVbtf"
      },
      "execution_count": null,
      "outputs": []
    },
    {
      "cell_type": "code",
      "source": [
        "preprocessing_stages = []\n",
        "\n",
        "from pyspark.ml.feature import StandardScaler, VectorAssembler\n",
        "\n",
        "unscaled_assembler = VectorAssembler(inputCols=features_col, outputCol=\"unscaled_features\")\n",
        "scaler = StandardScaler(inputCol=\"unscaled_features\", outputCol=\"scaled_features\")\n",
        "assembler = VectorAssembler(inputCols=[\"scaled_features\"], outputCol=\"features\")\n",
        "\n",
        "preprocessing_stages += [unscaled_assembler, scaler, assembler]"
      ],
      "metadata": {
        "id": "8Bv5VERxEizG"
      },
      "execution_count": null,
      "outputs": []
    },
    {
      "cell_type": "code",
      "source": [
        "from pyspark.ml.feature import StringIndexer\n",
        "from pyspark.ml.feature import OneHotEncoder\n",
        "\n",
        "\n",
        "label_str_index =  StringIndexer(inputCol=tmp_label_col, outputCol=label_col)\n",
        "\n",
        "preprocessing_stages += [label_str_index]"
      ],
      "metadata": {
        "id": "bf0YlGCTEmWx"
      },
      "execution_count": null,
      "outputs": []
    },
    {
      "cell_type": "code",
      "source": [
        "from pyspark.ml.feature import UnivariateFeatureSelector\n",
        "\n",
        "selector = UnivariateFeatureSelector(featuresCol=\"features\", outputCol=feature_col,\n",
        "                                     labelCol=\"label_index\", selectionMode=\"numTopFeatures\")\n",
        "\n",
        "selector.setFeatureType(\"continuous\").setLabelType(\"continuous\").setSelectionThreshold(60)\n",
        "\n",
        "preprocessing_stages += [selector]"
      ],
      "metadata": {
        "id": "Da_qyj42EuOk"
      },
      "execution_count": null,
      "outputs": []
    },
    {
      "cell_type": "code",
      "source": [],
      "metadata": {
        "id": "rkjWFJcVTpbT"
      },
      "execution_count": null,
      "outputs": []
    },
    {
      "cell_type": "code",
      "source": [
        "from pyspark.ml import Pipeline\n",
        "\n",
        "# Set Pipeline\n",
        "preprocessing_pipeline = Pipeline(stages=preprocessing_stages)\n",
        "\n",
        "preprocessing_pipeline = preprocessing_pipeline.fit(train_df)\n",
        "\n",
        "train_df = preprocessing_pipeline.transform(train_df)\n",
        "test_df = preprocessing_pipeline.transform(test_df)"
      ],
      "metadata": {
        "id": "d7rsqPMMEwEh"
      },
      "execution_count": null,
      "outputs": []
    },
    {
      "cell_type": "code",
      "source": [
        "train_df.limit(5).toPandas()"
      ],
      "metadata": {
        "id": "pJoBA6oYXsrS"
      },
      "execution_count": null,
      "outputs": []
    },
    {
      "cell_type": "code",
      "source": [
        "nb_classes = train_df.select(\"label_index\").distinct().count()\n",
        "\n",
        "input_dim = len(train_df.select(feature_col).first()[0])\n",
        "print(\"nb_classes: \", nb_classes)\n",
        "print(\"input_dim: \", input_dim)"
      ],
      "metadata": {
        "id": "EvGwc-NUExiV"
      },
      "execution_count": null,
      "outputs": []
    },
    {
      "cell_type": "code",
      "source": [
        "nb_classes = test_df.select(\"label_index\").distinct().count()\n",
        "\n",
        "input_dim = len(test_df.select(feature_col).first()[0])\n",
        "print(\"nb_classes: \", nb_classes)\n",
        "print(\"input_dim: \", input_dim)"
      ],
      "metadata": {
        "id": "NezhEt_RVub8"
      },
      "execution_count": null,
      "outputs": []
    },
    {
      "cell_type": "code",
      "source": [
        "from pyspark.sql.functions import rand\n",
        "\n",
        "train_df = train_df.select('selectedFeatures', 'label_index')\n",
        "train_df = train_df.orderBy(rand())\n",
        "\n",
        "test_df = test_df.select('selectedFeatures', 'label_index')"
      ],
      "metadata": {
        "id": "T21qNaZmsp4F"
      },
      "execution_count": null,
      "outputs": []
    },
    {
      "cell_type": "markdown",
      "source": [
        "Training the Model"
      ],
      "metadata": {
        "id": "TKwDZ3fCsw18"
      }
    },
    {
      "cell_type": "code",
      "source": [],
      "metadata": {
        "id": "HF4brACRkhX6"
      },
      "execution_count": null,
      "outputs": []
    },
    {
      "cell_type": "code",
      "source": [
        "from pyspark.ml.classification import LogisticRegression\n",
        "\n",
        "lr = LogisticRegression(featuresCol = 'selectedFeatures',labelCol = 'label_index', maxIter=20, regParam=0.3, elasticNetParam=0)"
      ],
      "metadata": {
        "id": "xG3FqpTLkhVH"
      },
      "execution_count": null,
      "outputs": []
    },
    {
      "cell_type": "code",
      "source": [
        "from pyspark.ml import Pipeline\n",
        "pipeline = Pipeline(stages=[lr])"
      ],
      "metadata": {
        "id": "LC21AgMcksqn"
      },
      "execution_count": null,
      "outputs": []
    },
    {
      "cell_type": "code",
      "source": [
        "model = pipeline.fit(train_df)"
      ],
      "metadata": {
        "id": "zXdwjAEzkuML"
      },
      "execution_count": null,
      "outputs": []
    },
    {
      "cell_type": "code",
      "source": [
        "prediction = model.transform(train_df)"
      ],
      "metadata": {
        "id": "mudNqhvpky8-"
      },
      "execution_count": null,
      "outputs": []
    },
    {
      "cell_type": "code",
      "source": [
        "prediction.printSchema()"
      ],
      "metadata": {
        "colab": {
          "base_uri": "https://localhost:8080/"
        },
        "id": "MFYCWNGEnHYq",
        "outputId": "b7838000-3148-46e7-9968-4f57b552ce3f"
      },
      "execution_count": null,
      "outputs": [
        {
          "output_type": "stream",
          "name": "stdout",
          "text": [
            "root\n",
            " |-- selectedFeatures: vector (nullable = true)\n",
            " |-- label_index: double (nullable = false)\n",
            " |-- rawPrediction: vector (nullable = true)\n",
            " |-- probability: vector (nullable = true)\n",
            " |-- prediction: double (nullable = false)\n",
            "\n"
          ]
        }
      ]
    },
    {
      "cell_type": "code",
      "source": [
        "prediction.show()"
      ],
      "metadata": {
        "colab": {
          "base_uri": "https://localhost:8080/"
        },
        "id": "rO4SVKGKnJEx",
        "outputId": "1ac353bc-68ee-482e-82f8-8deba6703a17"
      },
      "execution_count": null,
      "outputs": [
        {
          "output_type": "stream",
          "name": "stdout",
          "text": [
            "+--------------------+-----------+--------------------+--------------------+----------+\n",
            "|    selectedFeatures|label_index|       rawPrediction|         probability|prediction|\n",
            "+--------------------+-----------+--------------------+--------------------+----------+\n",
            "|(60,[0,1,2,3,4,5,...|        3.0|[3.29616488244408...|[0.92364863896387...|       0.0|\n",
            "|(60,[0,1,2,3,4,5,...|        3.0|[-0.8806078702025...|[0.02507347954926...|       1.0|\n",
            "|(60,[0,1,2,3,4,5,...|        1.0|[0.61885720274285...|[0.15713128478775...|       1.0|\n",
            "|(60,[0,1,2,3,4,5,...|        0.0|[3.32556847957288...|[0.95520153165250...|       0.0|\n",
            "|(60,[0,1,2,3,4,5,...|        0.0|[3.29471969181754...|[0.95383538743745...|       0.0|\n",
            "|(60,[0,1,2,3,4,5,...|        0.0|[2.99246613045832...|[0.93182539290584...|       0.0|\n",
            "|(60,[0,1,2,3,4,5,...|        0.0|[3.09501813543042...|[0.94039620555041...|       0.0|\n",
            "|(60,[0,1,2,3,4,5,...|        0.0|[3.37655702457232...|[0.96063245848315...|       0.0|\n",
            "|(60,[0,1,2,3,4,5,...|        0.0|[3.06555265116047...|[0.93870653647316...|       0.0|\n",
            "|(60,[0,1,2,3,4,5,...|        0.0|[3.29670248802057...|[0.95463607420493...|       0.0|\n",
            "|(60,[0,1,2,3,4,5,...|        0.0|[3.16427422539276...|[0.94646658264209...|       0.0|\n",
            "|(60,[0,1,2,3,4,5,...|        0.0|[3.31027147236920...|[0.95567863019592...|       0.0|\n",
            "|(60,[0,1,2,3,4,5,...|        0.0|[3.29359337195104...|[0.95609251902356...|       0.0|\n",
            "|(60,[0,1,2,3,4,5,...|        0.0|[3.14358934054271...|[0.94531741364325...|       0.0|\n",
            "|(60,[0,1,2,3,4,5,...|        0.0|[3.31348018473086...|[0.95591155033766...|       0.0|\n",
            "|(60,[0,1,2,3,4,5,...|        0.0|[3.27521259789780...|[0.95572886952744...|       0.0|\n",
            "|(60,[0,1,2,3,4,5,...|        0.0|[3.32170669484588...|[0.95653901039557...|       0.0|\n",
            "|(60,[0,1,2,3,4,5,...|        0.0|[3.26946446839317...|[0.95548829999803...|       0.0|\n",
            "|(60,[0,1,2,3,4,5,...|        0.0|[3.03566042460363...|[0.93949746368889...|       0.0|\n",
            "|(60,[0,1,2,3,4,5,...|        0.0|[3.01619619328613...|[0.93826239391162...|       0.0|\n",
            "+--------------------+-----------+--------------------+--------------------+----------+\n",
            "only showing top 20 rows\n",
            "\n"
          ]
        }
      ]
    },
    {
      "cell_type": "code",
      "source": [
        "test_prediction = model.transform(test_df)"
      ],
      "metadata": {
        "id": "Mghie5ponKp5"
      },
      "execution_count": null,
      "outputs": []
    },
    {
      "cell_type": "code",
      "source": [
        "from pyspark.ml.evaluation import MulticlassClassificationEvaluator\n",
        "binEval = MulticlassClassificationEvaluator().setMetricName(\"accuracy\").setPredictionCol(\"prediction\").setLabelCol(\"label_index\")\n",
        "\n",
        "binEval.evaluate(test_prediction)"
      ],
      "metadata": {
        "colab": {
          "base_uri": "https://localhost:8080/"
        },
        "id": "XwTDOg4sn1Dz",
        "outputId": "8b0a8969-9008-41de-be24-af647fe194b6"
      },
      "execution_count": null,
      "outputs": [
        {
          "output_type": "execute_result",
          "data": {
            "text/plain": [
              "0.9266592001156111"
            ]
          },
          "metadata": {},
          "execution_count": 42
        }
      ]
    },
    {
      "cell_type": "code",
      "source": [],
      "metadata": {
        "id": "fLQCUvL_pvXj"
      },
      "execution_count": null,
      "outputs": []
    },
    {
      "cell_type": "code",
      "source": [
        "from pyspark.ml.classification import RandomForestClassifier\n",
        "\n",
        "rf = RandomForestClassifier(labelCol=\"label_index\", featuresCol=\"selectedFeatures\", numTrees=10)\n",
        "\n",
        "pipeline = Pipeline(stages=[rf])"
      ],
      "metadata": {
        "id": "4WBIJFp2q5jg"
      },
      "execution_count": null,
      "outputs": []
    },
    {
      "cell_type": "code",
      "source": [
        "model = pipeline.fit(train_df)\n",
        "prediction = model.transform(train_df)"
      ],
      "metadata": {
        "id": "sQyRf8-erAgt"
      },
      "execution_count": null,
      "outputs": []
    },
    {
      "cell_type": "code",
      "source": [
        "prediction.show()"
      ],
      "metadata": {
        "colab": {
          "base_uri": "https://localhost:8080/"
        },
        "id": "IdsPStqSrF6p",
        "outputId": "c3947d43-717a-4940-e154-6e6f59f739a7"
      },
      "execution_count": null,
      "outputs": [
        {
          "output_type": "stream",
          "name": "stdout",
          "text": [
            "+--------------------+-----------+--------------------+--------------------+----------+\n",
            "|    selectedFeatures|label_index|       rawPrediction|         probability|prediction|\n",
            "+--------------------+-----------+--------------------+--------------------+----------+\n",
            "|(60,[0,1,2,3,4,5,...|        3.0|[3.31643806204862...|[0.92466353576494...|       0.0|\n",
            "|(60,[0,1,2,3,4,5,...|        3.0|[-0.8635045221996...|[0.02544212854457...|       1.0|\n",
            "|(60,[0,1,2,3,4,5,...|        1.0|[0.63630285255395...|[0.15879101409753...|       1.0|\n",
            "|(60,[0,1,2,3,4,5,...|        0.0|[3.34104305279281...|[0.95551785593758...|       0.0|\n",
            "|(60,[0,1,2,3,4,5,...|        0.0|[3.31017717808537...|[0.95417368674353...|       0.0|\n",
            "|(60,[0,1,2,3,4,5,...|        0.0|[3.00805205765954...|[0.93235640484024...|       0.0|\n",
            "|(60,[0,1,2,3,4,5,...|        0.0|[3.11054711152639...|[0.94085486870875...|       0.0|\n",
            "|(60,[0,1,2,3,4,5,...|        0.0|[3.39171495013100...|[0.96095833253128...|       0.0|\n",
            "|(60,[0,1,2,3,4,5,...|        0.0|[3.32342212920372...|[0.95724861605949...|       0.0|\n",
            "|(60,[0,1,2,3,4,5,...|        0.0|[3.08105138607138...|[0.93919234595460...|       0.0|\n",
            "|(60,[0,1,2,3,4,5,...|        0.0|[3.31125560422678...|[0.95491875730522...|       0.0|\n",
            "|(60,[0,1,2,3,4,5,...|        0.0|[3.31649649456141...|[0.95533143207496...|       0.0|\n",
            "|(60,[0,1,2,3,4,5,...|        0.0|[3.32483444501586...|[0.95596111282653...|       0.0|\n",
            "|(60,[0,1,2,3,4,5,...|        0.0|[3.30832096138000...|[0.95643307499817...|       0.0|\n",
            "|(60,[0,1,2,3,4,5,...|        0.0|[3.15901304434203...|[0.94576150092729...|       0.0|\n",
            "|(60,[0,1,2,3,4,5,...|        0.0|[3.32804907541428...|[0.95619399256655...|       0.0|\n",
            "|(60,[0,1,2,3,4,5,...|        0.0|[3.29038506360826...|[0.95611970572668...|       0.0|\n",
            "|(60,[0,1,2,3,4,5,...|        0.0|[3.33634249771949...|[0.95682504457809...|       0.0|\n",
            "|(60,[0,1,2,3,4,5,...|        0.0|[3.28463031329338...|[0.95588385916886...|       0.0|\n",
            "|(60,[0,1,2,3,4,5,...|        0.0|[3.05096221348273...|[0.94004659003320...|       0.0|\n",
            "+--------------------+-----------+--------------------+--------------------+----------+\n",
            "only showing top 20 rows\n",
            "\n"
          ]
        }
      ]
    },
    {
      "cell_type": "code",
      "source": [
        "prediction_test = model.transform(test_df)\n",
        "\n",
        "from pyspark.ml.evaluation import MulticlassClassificationEvaluator\n",
        "binEval = MulticlassClassificationEvaluator().setMetricName(\"accuracy\").setPredictionCol(\"prediction\").setLabelCol(\"label_index\")\n",
        "\n",
        "binEval.evaluate(prediction_test)"
      ],
      "metadata": {
        "colab": {
          "base_uri": "https://localhost:8080/"
        },
        "id": "xa3RWXQPrHe5",
        "outputId": "13aeb33a-b29a-4c8c-b027-b4592d125a00"
      },
      "execution_count": null,
      "outputs": [
        {
          "output_type": "execute_result",
          "data": {
            "text/plain": [
              "0.9284922528253693"
            ]
          },
          "metadata": {},
          "execution_count": 46
        }
      ]
    },
    {
      "cell_type": "code",
      "source": [],
      "metadata": {
        "id": "_msgEZfvMVvU"
      },
      "execution_count": null,
      "outputs": []
    },
    {
      "cell_type": "code",
      "source": [
        "from pyspark.ml.classification import DecisionTreeClassifier\n",
        "\n",
        "dt = DecisionTreeClassifier(labelCol=\"label_index\", featuresCol=\"selectedFeatures\")\n",
        "\n",
        "pipeline = Pipeline(stages=[dt])"
      ],
      "metadata": {
        "id": "IJSZvJSVPWFN"
      },
      "execution_count": null,
      "outputs": []
    },
    {
      "cell_type": "code",
      "source": [
        "model = pipeline.fit(train_df)\n",
        "prediction = model.transform(train_df)"
      ],
      "metadata": {
        "id": "zzk87obdPgbA"
      },
      "execution_count": null,
      "outputs": []
    },
    {
      "cell_type": "code",
      "source": [
        "prediction.show()"
      ],
      "metadata": {
        "colab": {
          "base_uri": "https://localhost:8080/"
        },
        "id": "34JuyBmdPiZG",
        "outputId": "00448b71-ca19-48b3-ff97-b8fac0a38645"
      },
      "execution_count": null,
      "outputs": [
        {
          "output_type": "stream",
          "name": "stdout",
          "text": [
            "+--------------------+-----------+--------------------+--------------------+----------+\n",
            "|    selectedFeatures|label_index|       rawPrediction|         probability|prediction|\n",
            "+--------------------+-----------+--------------------+--------------------+----------+\n",
            "|(60,[0,1,2,3,4,5,...|        3.0|[0.0,0.0,4363.0,2...|[0.0,0.0,0.640675...|       2.0|\n",
            "|(60,[0,1,2,3,4,5,...|        3.0|   [0.0,0.0,0.0,7.0]|   [0.0,0.0,0.0,1.0]|       3.0|\n",
            "|(60,[0,1,2,3,4,5,...|        1.0|  [0.0,37.0,0.0,0.0]|   [0.0,1.0,0.0,0.0]|       1.0|\n",
            "|(60,[0,1,2,3,4,5,...|        0.0|[189769.0,0.0,0.0...|   [1.0,0.0,0.0,0.0]|       0.0|\n",
            "|(60,[0,1,2,3,4,5,...|        0.0|[189769.0,0.0,0.0...|   [1.0,0.0,0.0,0.0]|       0.0|\n",
            "|(60,[0,1,2,3,4,5,...|        0.0|[189769.0,0.0,0.0...|   [1.0,0.0,0.0,0.0]|       0.0|\n",
            "|(60,[0,1,2,3,4,5,...|        0.0|[189769.0,0.0,0.0...|   [1.0,0.0,0.0,0.0]|       0.0|\n",
            "|(60,[0,1,2,3,4,5,...|        0.0|[189769.0,0.0,0.0...|   [1.0,0.0,0.0,0.0]|       0.0|\n",
            "|(60,[0,1,2,3,4,5,...|        0.0|[189769.0,0.0,0.0...|   [1.0,0.0,0.0,0.0]|       0.0|\n",
            "|(60,[0,1,2,3,4,5,...|        0.0|[189769.0,0.0,0.0...|   [1.0,0.0,0.0,0.0]|       0.0|\n",
            "|(60,[0,1,2,3,4,5,...|        0.0|[189769.0,0.0,0.0...|   [1.0,0.0,0.0,0.0]|       0.0|\n",
            "|(60,[0,1,2,3,4,5,...|        0.0|[189769.0,0.0,0.0...|   [1.0,0.0,0.0,0.0]|       0.0|\n",
            "|(60,[0,1,2,3,4,5,...|        0.0|[189769.0,0.0,0.0...|   [1.0,0.0,0.0,0.0]|       0.0|\n",
            "|(60,[0,1,2,3,4,5,...|        0.0|[189769.0,0.0,0.0...|   [1.0,0.0,0.0,0.0]|       0.0|\n",
            "|(60,[0,1,2,3,4,5,...|        0.0|[189769.0,0.0,0.0...|   [1.0,0.0,0.0,0.0]|       0.0|\n",
            "|(60,[0,1,2,3,4,5,...|        0.0|[189769.0,0.0,0.0...|   [1.0,0.0,0.0,0.0]|       0.0|\n",
            "|(60,[0,1,2,3,4,5,...|        0.0|[189769.0,0.0,0.0...|   [1.0,0.0,0.0,0.0]|       0.0|\n",
            "|(60,[0,1,2,3,4,5,...|        0.0|[189769.0,0.0,0.0...|   [1.0,0.0,0.0,0.0]|       0.0|\n",
            "|(60,[0,1,2,3,4,5,...|        0.0|[189769.0,0.0,0.0...|   [1.0,0.0,0.0,0.0]|       0.0|\n",
            "|(60,[0,1,2,3,4,5,...|        0.0|[189769.0,0.0,0.0...|   [1.0,0.0,0.0,0.0]|       0.0|\n",
            "+--------------------+-----------+--------------------+--------------------+----------+\n",
            "only showing top 20 rows\n",
            "\n"
          ]
        }
      ]
    },
    {
      "cell_type": "code",
      "source": [
        "prediction_test = model.transform(test_df)\n",
        "\n",
        "from pyspark.ml.evaluation import MulticlassClassificationEvaluator\n",
        "binEval = MulticlassClassificationEvaluator().setMetricName(\"accuracy\").setPredictionCol(\"prediction\").setLabelCol(\"label_index\")\n",
        "\n",
        "binEval.evaluate(prediction_test)"
      ],
      "metadata": {
        "colab": {
          "base_uri": "https://localhost:8080/"
        },
        "id": "aPG0Jf54Pkl9",
        "outputId": "f25c84de-8470-4b9f-e76a-ee11c590e6d0"
      },
      "execution_count": null,
      "outputs": [
        {
          "output_type": "execute_result",
          "data": {
            "text/plain": [
              "0.980296990353233"
            ]
          },
          "metadata": {},
          "execution_count": 50
        }
      ]
    },
    {
      "cell_type": "code",
      "source": [],
      "metadata": {
        "id": "aoTaufqnPos7"
      },
      "execution_count": null,
      "outputs": []
    },
    {
      "cell_type": "code",
      "source": [
        "sc.stop()"
      ],
      "metadata": {
        "id": "cCUFKoWaP5gD"
      },
      "execution_count": null,
      "outputs": []
    }
  ]
}